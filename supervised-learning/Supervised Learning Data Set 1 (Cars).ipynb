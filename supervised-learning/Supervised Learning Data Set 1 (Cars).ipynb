{
 "cells": [
  {
   "cell_type": "markdown",
   "id": "compact-private",
   "metadata": {},
   "source": [
    "# Introduction\n",
    "\n",
    "I have chosen two data sets, one regression and one a binary classification.  (The assignment mentions two classifications, but Prof. Isbell answered a student's question about this with \"You can do regression if you want to. I appreciate the claim that’s it’s all classification under finite data.\")\n",
    "\n"
   ]
  },
  {
   "cell_type": "code",
   "execution_count": 1,
   "id": "clean-williams",
   "metadata": {},
   "outputs": [],
   "source": [
    "# run this if category_encoders (used below) is not installed\n",
    "# import sys\n",
    "# !conda install --yes --prefix {sys.prefix} category_encoders\n",
    "# !conda install --yes --prefix {sys.prefix} xgboost\n",
    "#!pip install category_encoders\n",
    "#!pip install xgboost"
   ]
  },
  {
   "cell_type": "code",
   "execution_count": 2,
   "id": "democratic-broadcasting",
   "metadata": {},
   "outputs": [],
   "source": [
    "import pandas as pd\n",
    "import numpy as np\n",
    "import scipy as sp\n",
    "import sklearn as skl\n",
    "import seaborn as sns\n",
    "import matplotlib as plt"
   ]
  },
  {
   "cell_type": "markdown",
   "id": "alone-florence",
   "metadata": {},
   "source": [
    "# Supervised Learning Data Set 1 (Cars)\n",
    "\n",
    "This dataset is a (scraped) listing of used cars with their features and selling prices.  It is being used to predict the selling price of a used car with certain features."
   ]
  },
  {
   "cell_type": "markdown",
   "id": "expressed-freeze",
   "metadata": {},
   "source": [
    "First we read in and examine the data set briefly."
   ]
  },
  {
   "cell_type": "code",
   "execution_count": 3,
   "id": "horizontal-boards",
   "metadata": {},
   "outputs": [
    {
     "name": "stdout",
     "output_type": "stream",
     "text": [
      "cars_df shape = (11914, 16)\n"
     ]
    },
    {
     "data": {
      "text/html": [
       "<div>\n",
       "<style scoped>\n",
       "    .dataframe tbody tr th:only-of-type {\n",
       "        vertical-align: middle;\n",
       "    }\n",
       "\n",
       "    .dataframe tbody tr th {\n",
       "        vertical-align: top;\n",
       "    }\n",
       "\n",
       "    .dataframe thead th {\n",
       "        text-align: right;\n",
       "    }\n",
       "</style>\n",
       "<table border=\"1\" class=\"dataframe\">\n",
       "  <thead>\n",
       "    <tr style=\"text-align: right;\">\n",
       "      <th></th>\n",
       "      <th>Make</th>\n",
       "      <th>Model</th>\n",
       "      <th>Year</th>\n",
       "      <th>Engine Fuel Type</th>\n",
       "      <th>Engine HP</th>\n",
       "      <th>Engine Cylinders</th>\n",
       "      <th>Transmission Type</th>\n",
       "      <th>Driven_Wheels</th>\n",
       "      <th>Number of Doors</th>\n",
       "      <th>Market Category</th>\n",
       "      <th>Vehicle Size</th>\n",
       "      <th>Vehicle Style</th>\n",
       "      <th>highway MPG</th>\n",
       "      <th>city mpg</th>\n",
       "      <th>Popularity</th>\n",
       "      <th>MSRP</th>\n",
       "    </tr>\n",
       "  </thead>\n",
       "  <tbody>\n",
       "    <tr>\n",
       "      <th>0</th>\n",
       "      <td>BMW</td>\n",
       "      <td>1 Series M</td>\n",
       "      <td>2011</td>\n",
       "      <td>premium unleaded (required)</td>\n",
       "      <td>335.0</td>\n",
       "      <td>6.0</td>\n",
       "      <td>MANUAL</td>\n",
       "      <td>rear wheel drive</td>\n",
       "      <td>2.0</td>\n",
       "      <td>Factory Tuner,Luxury,High-Performance</td>\n",
       "      <td>Compact</td>\n",
       "      <td>Coupe</td>\n",
       "      <td>26</td>\n",
       "      <td>19</td>\n",
       "      <td>3916</td>\n",
       "      <td>46135</td>\n",
       "    </tr>\n",
       "    <tr>\n",
       "      <th>1</th>\n",
       "      <td>BMW</td>\n",
       "      <td>1 Series</td>\n",
       "      <td>2011</td>\n",
       "      <td>premium unleaded (required)</td>\n",
       "      <td>300.0</td>\n",
       "      <td>6.0</td>\n",
       "      <td>MANUAL</td>\n",
       "      <td>rear wheel drive</td>\n",
       "      <td>2.0</td>\n",
       "      <td>Luxury,Performance</td>\n",
       "      <td>Compact</td>\n",
       "      <td>Convertible</td>\n",
       "      <td>28</td>\n",
       "      <td>19</td>\n",
       "      <td>3916</td>\n",
       "      <td>40650</td>\n",
       "    </tr>\n",
       "    <tr>\n",
       "      <th>2</th>\n",
       "      <td>BMW</td>\n",
       "      <td>1 Series</td>\n",
       "      <td>2011</td>\n",
       "      <td>premium unleaded (required)</td>\n",
       "      <td>300.0</td>\n",
       "      <td>6.0</td>\n",
       "      <td>MANUAL</td>\n",
       "      <td>rear wheel drive</td>\n",
       "      <td>2.0</td>\n",
       "      <td>Luxury,High-Performance</td>\n",
       "      <td>Compact</td>\n",
       "      <td>Coupe</td>\n",
       "      <td>28</td>\n",
       "      <td>20</td>\n",
       "      <td>3916</td>\n",
       "      <td>36350</td>\n",
       "    </tr>\n",
       "    <tr>\n",
       "      <th>3</th>\n",
       "      <td>BMW</td>\n",
       "      <td>1 Series</td>\n",
       "      <td>2011</td>\n",
       "      <td>premium unleaded (required)</td>\n",
       "      <td>230.0</td>\n",
       "      <td>6.0</td>\n",
       "      <td>MANUAL</td>\n",
       "      <td>rear wheel drive</td>\n",
       "      <td>2.0</td>\n",
       "      <td>Luxury,Performance</td>\n",
       "      <td>Compact</td>\n",
       "      <td>Coupe</td>\n",
       "      <td>28</td>\n",
       "      <td>18</td>\n",
       "      <td>3916</td>\n",
       "      <td>29450</td>\n",
       "    </tr>\n",
       "    <tr>\n",
       "      <th>4</th>\n",
       "      <td>BMW</td>\n",
       "      <td>1 Series</td>\n",
       "      <td>2011</td>\n",
       "      <td>premium unleaded (required)</td>\n",
       "      <td>230.0</td>\n",
       "      <td>6.0</td>\n",
       "      <td>MANUAL</td>\n",
       "      <td>rear wheel drive</td>\n",
       "      <td>2.0</td>\n",
       "      <td>Luxury</td>\n",
       "      <td>Compact</td>\n",
       "      <td>Convertible</td>\n",
       "      <td>28</td>\n",
       "      <td>18</td>\n",
       "      <td>3916</td>\n",
       "      <td>34500</td>\n",
       "    </tr>\n",
       "  </tbody>\n",
       "</table>\n",
       "</div>"
      ],
      "text/plain": [
       "  Make       Model  Year             Engine Fuel Type  Engine HP  \\\n",
       "0  BMW  1 Series M  2011  premium unleaded (required)      335.0   \n",
       "1  BMW    1 Series  2011  premium unleaded (required)      300.0   \n",
       "2  BMW    1 Series  2011  premium unleaded (required)      300.0   \n",
       "3  BMW    1 Series  2011  premium unleaded (required)      230.0   \n",
       "4  BMW    1 Series  2011  premium unleaded (required)      230.0   \n",
       "\n",
       "   Engine Cylinders Transmission Type     Driven_Wheels  Number of Doors  \\\n",
       "0               6.0            MANUAL  rear wheel drive              2.0   \n",
       "1               6.0            MANUAL  rear wheel drive              2.0   \n",
       "2               6.0            MANUAL  rear wheel drive              2.0   \n",
       "3               6.0            MANUAL  rear wheel drive              2.0   \n",
       "4               6.0            MANUAL  rear wheel drive              2.0   \n",
       "\n",
       "                         Market Category Vehicle Size Vehicle Style  \\\n",
       "0  Factory Tuner,Luxury,High-Performance      Compact         Coupe   \n",
       "1                     Luxury,Performance      Compact   Convertible   \n",
       "2                Luxury,High-Performance      Compact         Coupe   \n",
       "3                     Luxury,Performance      Compact         Coupe   \n",
       "4                                 Luxury      Compact   Convertible   \n",
       "\n",
       "   highway MPG  city mpg  Popularity   MSRP  \n",
       "0           26        19        3916  46135  \n",
       "1           28        19        3916  40650  \n",
       "2           28        20        3916  36350  \n",
       "3           28        18        3916  29450  \n",
       "4           28        18        3916  34500  "
      ]
     },
     "execution_count": 3,
     "metadata": {},
     "output_type": "execute_result"
    }
   ],
   "source": [
    "np.random.seed(5295468)\n",
    "cars_df = pd.read_csv('data/car_prices.csv')\n",
    "print(\"cars_df shape = {}\".format(cars_df.shape))\n",
    "cars_df.head()"
   ]
  },
  {
   "cell_type": "markdown",
   "id": "blocked-ukraine",
   "metadata": {},
   "source": [
    "Seeing the irregularity of the column names, normalize them to lowercase with _ separating words."
   ]
  },
  {
   "cell_type": "code",
   "execution_count": 4,
   "id": "black-diana",
   "metadata": {},
   "outputs": [
    {
     "data": {
      "text/html": [
       "<div>\n",
       "<style scoped>\n",
       "    .dataframe tbody tr th:only-of-type {\n",
       "        vertical-align: middle;\n",
       "    }\n",
       "\n",
       "    .dataframe tbody tr th {\n",
       "        vertical-align: top;\n",
       "    }\n",
       "\n",
       "    .dataframe thead th {\n",
       "        text-align: right;\n",
       "    }\n",
       "</style>\n",
       "<table border=\"1\" class=\"dataframe\">\n",
       "  <thead>\n",
       "    <tr style=\"text-align: right;\">\n",
       "      <th></th>\n",
       "      <th>make</th>\n",
       "      <th>model</th>\n",
       "      <th>year</th>\n",
       "      <th>engine_fuel_type</th>\n",
       "      <th>engine_hp</th>\n",
       "      <th>engine_cylinders</th>\n",
       "      <th>transmission_type</th>\n",
       "      <th>driven_wheels</th>\n",
       "      <th>number_of_doors</th>\n",
       "      <th>market_category</th>\n",
       "      <th>vehicle_size</th>\n",
       "      <th>vehicle_style</th>\n",
       "      <th>highway_mpg</th>\n",
       "      <th>city_mpg</th>\n",
       "      <th>popularity</th>\n",
       "      <th>msrp</th>\n",
       "    </tr>\n",
       "  </thead>\n",
       "  <tbody>\n",
       "    <tr>\n",
       "      <th>0</th>\n",
       "      <td>bmw</td>\n",
       "      <td>1_series_m</td>\n",
       "      <td>2011</td>\n",
       "      <td>premium_unleaded_(required)</td>\n",
       "      <td>335.0</td>\n",
       "      <td>6.0</td>\n",
       "      <td>manual</td>\n",
       "      <td>rear_wheel_drive</td>\n",
       "      <td>2.0</td>\n",
       "      <td>factory_tuner,luxury,high_performance</td>\n",
       "      <td>compact</td>\n",
       "      <td>coupe</td>\n",
       "      <td>26</td>\n",
       "      <td>19</td>\n",
       "      <td>3916</td>\n",
       "      <td>46135</td>\n",
       "    </tr>\n",
       "    <tr>\n",
       "      <th>1</th>\n",
       "      <td>bmw</td>\n",
       "      <td>1_series</td>\n",
       "      <td>2011</td>\n",
       "      <td>premium_unleaded_(required)</td>\n",
       "      <td>300.0</td>\n",
       "      <td>6.0</td>\n",
       "      <td>manual</td>\n",
       "      <td>rear_wheel_drive</td>\n",
       "      <td>2.0</td>\n",
       "      <td>luxury,performance</td>\n",
       "      <td>compact</td>\n",
       "      <td>convertible</td>\n",
       "      <td>28</td>\n",
       "      <td>19</td>\n",
       "      <td>3916</td>\n",
       "      <td>40650</td>\n",
       "    </tr>\n",
       "    <tr>\n",
       "      <th>2</th>\n",
       "      <td>bmw</td>\n",
       "      <td>1_series</td>\n",
       "      <td>2011</td>\n",
       "      <td>premium_unleaded_(required)</td>\n",
       "      <td>300.0</td>\n",
       "      <td>6.0</td>\n",
       "      <td>manual</td>\n",
       "      <td>rear_wheel_drive</td>\n",
       "      <td>2.0</td>\n",
       "      <td>luxury,high_performance</td>\n",
       "      <td>compact</td>\n",
       "      <td>coupe</td>\n",
       "      <td>28</td>\n",
       "      <td>20</td>\n",
       "      <td>3916</td>\n",
       "      <td>36350</td>\n",
       "    </tr>\n",
       "    <tr>\n",
       "      <th>3</th>\n",
       "      <td>bmw</td>\n",
       "      <td>1_series</td>\n",
       "      <td>2011</td>\n",
       "      <td>premium_unleaded_(required)</td>\n",
       "      <td>230.0</td>\n",
       "      <td>6.0</td>\n",
       "      <td>manual</td>\n",
       "      <td>rear_wheel_drive</td>\n",
       "      <td>2.0</td>\n",
       "      <td>luxury,performance</td>\n",
       "      <td>compact</td>\n",
       "      <td>coupe</td>\n",
       "      <td>28</td>\n",
       "      <td>18</td>\n",
       "      <td>3916</td>\n",
       "      <td>29450</td>\n",
       "    </tr>\n",
       "    <tr>\n",
       "      <th>4</th>\n",
       "      <td>bmw</td>\n",
       "      <td>1_series</td>\n",
       "      <td>2011</td>\n",
       "      <td>premium_unleaded_(required)</td>\n",
       "      <td>230.0</td>\n",
       "      <td>6.0</td>\n",
       "      <td>manual</td>\n",
       "      <td>rear_wheel_drive</td>\n",
       "      <td>2.0</td>\n",
       "      <td>luxury</td>\n",
       "      <td>compact</td>\n",
       "      <td>convertible</td>\n",
       "      <td>28</td>\n",
       "      <td>18</td>\n",
       "      <td>3916</td>\n",
       "      <td>34500</td>\n",
       "    </tr>\n",
       "  </tbody>\n",
       "</table>\n",
       "</div>"
      ],
      "text/plain": [
       "  make       model  year             engine_fuel_type  engine_hp  \\\n",
       "0  bmw  1_series_m  2011  premium_unleaded_(required)      335.0   \n",
       "1  bmw    1_series  2011  premium_unleaded_(required)      300.0   \n",
       "2  bmw    1_series  2011  premium_unleaded_(required)      300.0   \n",
       "3  bmw    1_series  2011  premium_unleaded_(required)      230.0   \n",
       "4  bmw    1_series  2011  premium_unleaded_(required)      230.0   \n",
       "\n",
       "   engine_cylinders transmission_type     driven_wheels  number_of_doors  \\\n",
       "0               6.0            manual  rear_wheel_drive              2.0   \n",
       "1               6.0            manual  rear_wheel_drive              2.0   \n",
       "2               6.0            manual  rear_wheel_drive              2.0   \n",
       "3               6.0            manual  rear_wheel_drive              2.0   \n",
       "4               6.0            manual  rear_wheel_drive              2.0   \n",
       "\n",
       "                         market_category vehicle_size vehicle_style  \\\n",
       "0  factory_tuner,luxury,high_performance      compact         coupe   \n",
       "1                     luxury,performance      compact   convertible   \n",
       "2                luxury,high_performance      compact         coupe   \n",
       "3                     luxury,performance      compact         coupe   \n",
       "4                                 luxury      compact   convertible   \n",
       "\n",
       "   highway_mpg  city_mpg  popularity   msrp  \n",
       "0           26        19        3916  46135  \n",
       "1           28        19        3916  40650  \n",
       "2           28        20        3916  36350  \n",
       "3           28        18        3916  29450  \n",
       "4           28        18        3916  34500  "
      ]
     },
     "execution_count": 4,
     "metadata": {},
     "output_type": "execute_result"
    }
   ],
   "source": [
    "def normalize_column_names(df):\n",
    "    df.columns = cars_df.columns.str.lower().str.replace(' ', '_')\n",
    "    string_columns = list(df.dtypes[df.dtypes == 'object'].index)\n",
    "    for col in string_columns:\n",
    "        df[col] = df[col].str.lower().str.replace(' ', '_')\n",
    "        df[col] = df[col].str.lower().str.replace('-', '_')\n",
    "\n",
    "normalize_column_names(cars_df)\n",
    "cars_df.head()"
   ]
  },
  {
   "cell_type": "markdown",
   "id": "settled-request",
   "metadata": {},
   "source": [
    "## Data Prep (Attempt 1)\n",
    "\n",
    "I won't reiterate the importance of preparing the data.\n",
    "\n",
    "-- \"Without a systematic way to start and keep data clean, bad data will happen.” — Donato Diorio"
   ]
  },
  {
   "cell_type": "markdown",
   "id": "intellectual-generator",
   "metadata": {},
   "source": [
    "###  Re-encoding the Data\n",
    "\n",
    "The market category is a comma separated multi-selection fiel|d, which doesn't encode well.\n",
    "\n",
    "We create one-hot encoded columns for each value in the column for each sample.  The downside is that most of the samples don't have a category assigned, so we may end up dropping this to see if it improves the accuracy at all.\n",
    "\n",
    "The other categorical columns we encode using a Leave One Out encoder[^leave-one-out] to bring them to a numerical representation without exploding the number of features.\n",
    "\n",
    "[^leave-one-out] https://contrib.scikit-learn.org/category_encoders/leaveoneout.html"
   ]
  },
  {
   "cell_type": "code",
   "execution_count": 5,
   "id": "isolated-canadian",
   "metadata": {},
   "outputs": [
    {
     "name": "stderr",
     "output_type": "stream",
     "text": [
      "c:\\python3.9\\lib\\site-packages\\category_encoders\\utils.py:21: FutureWarning: is_categorical is deprecated and will be removed in a future version.  Use is_categorical_dtype instead\n",
      "  elif pd.api.types.is_categorical(cols):\n"
     ]
    },
    {
     "data": {
      "text/html": [
       "<div>\n",
       "<style scoped>\n",
       "    .dataframe tbody tr th:only-of-type {\n",
       "        vertical-align: middle;\n",
       "    }\n",
       "\n",
       "    .dataframe tbody tr th {\n",
       "        vertical-align: top;\n",
       "    }\n",
       "\n",
       "    .dataframe thead th {\n",
       "        text-align: right;\n",
       "    }\n",
       "</style>\n",
       "<table border=\"1\" class=\"dataframe\">\n",
       "  <thead>\n",
       "    <tr style=\"text-align: right;\">\n",
       "      <th></th>\n",
       "      <th>city_mpg</th>\n",
       "      <th>crossover</th>\n",
       "      <th>diesel</th>\n",
       "      <th>driven_wheels</th>\n",
       "      <th>engine_cylinders</th>\n",
       "      <th>engine_fuel_type</th>\n",
       "      <th>engine_hp</th>\n",
       "      <th>exotic</th>\n",
       "      <th>factory_tuner</th>\n",
       "      <th>flex_fuel</th>\n",
       "      <th>...</th>\n",
       "      <th>model</th>\n",
       "      <th>number_of_doors</th>\n",
       "      <th>performance</th>\n",
       "      <th>popularity</th>\n",
       "      <th>transmission_type</th>\n",
       "      <th>unknown</th>\n",
       "      <th>vehicle_size</th>\n",
       "      <th>vehicle_style</th>\n",
       "      <th>year</th>\n",
       "      <th>msrp</th>\n",
       "    </tr>\n",
       "  </thead>\n",
       "  <tbody>\n",
       "    <tr>\n",
       "      <th>0</th>\n",
       "      <td>19</td>\n",
       "      <td>0</td>\n",
       "      <td>0</td>\n",
       "      <td>54509.568880</td>\n",
       "      <td>6.0</td>\n",
       "      <td>104174.319216</td>\n",
       "      <td>335.0</td>\n",
       "      <td>0</td>\n",
       "      <td>1</td>\n",
       "      <td>0</td>\n",
       "      <td>...</td>\n",
       "      <td>39893.794974</td>\n",
       "      <td>2.0</td>\n",
       "      <td>1</td>\n",
       "      <td>3916</td>\n",
       "      <td>26515.792573</td>\n",
       "      <td>0</td>\n",
       "      <td>35734.242986</td>\n",
       "      <td>69028.743603</td>\n",
       "      <td>2011</td>\n",
       "      <td>46135</td>\n",
       "    </tr>\n",
       "    <tr>\n",
       "      <th>1</th>\n",
       "      <td>19</td>\n",
       "      <td>0</td>\n",
       "      <td>0</td>\n",
       "      <td>55202.393232</td>\n",
       "      <td>6.0</td>\n",
       "      <td>106043.780241</td>\n",
       "      <td>300.0</td>\n",
       "      <td>0</td>\n",
       "      <td>0</td>\n",
       "      <td>0</td>\n",
       "      <td>...</td>\n",
       "      <td>38046.062616</td>\n",
       "      <td>2.0</td>\n",
       "      <td>1</td>\n",
       "      <td>3916</td>\n",
       "      <td>26228.751544</td>\n",
       "      <td>0</td>\n",
       "      <td>34719.328629</td>\n",
       "      <td>94719.337541</td>\n",
       "      <td>2011</td>\n",
       "      <td>40650</td>\n",
       "    </tr>\n",
       "    <tr>\n",
       "      <th>2</th>\n",
       "      <td>20</td>\n",
       "      <td>0</td>\n",
       "      <td>0</td>\n",
       "      <td>47188.326365</td>\n",
       "      <td>6.0</td>\n",
       "      <td>110015.759342</td>\n",
       "      <td>300.0</td>\n",
       "      <td>0</td>\n",
       "      <td>0</td>\n",
       "      <td>0</td>\n",
       "      <td>...</td>\n",
       "      <td>37608.541828</td>\n",
       "      <td>2.0</td>\n",
       "      <td>1</td>\n",
       "      <td>3916</td>\n",
       "      <td>26954.973923</td>\n",
       "      <td>0</td>\n",
       "      <td>37142.785074</td>\n",
       "      <td>75810.619046</td>\n",
       "      <td>2011</td>\n",
       "      <td>36350</td>\n",
       "    </tr>\n",
       "    <tr>\n",
       "      <th>3</th>\n",
       "      <td>18</td>\n",
       "      <td>0</td>\n",
       "      <td>0</td>\n",
       "      <td>53116.920262</td>\n",
       "      <td>6.0</td>\n",
       "      <td>102736.696718</td>\n",
       "      <td>230.0</td>\n",
       "      <td>0</td>\n",
       "      <td>0</td>\n",
       "      <td>0</td>\n",
       "      <td>...</td>\n",
       "      <td>40370.003185</td>\n",
       "      <td>2.0</td>\n",
       "      <td>1</td>\n",
       "      <td>3916</td>\n",
       "      <td>26243.424651</td>\n",
       "      <td>0</td>\n",
       "      <td>35472.895602</td>\n",
       "      <td>71997.856596</td>\n",
       "      <td>2011</td>\n",
       "      <td>29450</td>\n",
       "    </tr>\n",
       "    <tr>\n",
       "      <th>4</th>\n",
       "      <td>18</td>\n",
       "      <td>0</td>\n",
       "      <td>0</td>\n",
       "      <td>57493.813855</td>\n",
       "      <td>6.0</td>\n",
       "      <td>107971.587679</td>\n",
       "      <td>230.0</td>\n",
       "      <td>0</td>\n",
       "      <td>0</td>\n",
       "      <td>0</td>\n",
       "      <td>...</td>\n",
       "      <td>38816.838751</td>\n",
       "      <td>2.0</td>\n",
       "      <td>0</td>\n",
       "      <td>3916</td>\n",
       "      <td>27696.029584</td>\n",
       "      <td>0</td>\n",
       "      <td>35688.465635</td>\n",
       "      <td>83708.645015</td>\n",
       "      <td>2011</td>\n",
       "      <td>34500</td>\n",
       "    </tr>\n",
       "  </tbody>\n",
       "</table>\n",
       "<p>5 rows × 26 columns</p>\n",
       "</div>"
      ],
      "text/plain": [
       "   city_mpg  crossover  diesel  driven_wheels  engine_cylinders  \\\n",
       "0        19          0       0   54509.568880               6.0   \n",
       "1        19          0       0   55202.393232               6.0   \n",
       "2        20          0       0   47188.326365               6.0   \n",
       "3        18          0       0   53116.920262               6.0   \n",
       "4        18          0       0   57493.813855               6.0   \n",
       "\n",
       "   engine_fuel_type  engine_hp  exotic  factory_tuner  flex_fuel  ...  \\\n",
       "0     104174.319216      335.0       0              1          0  ...   \n",
       "1     106043.780241      300.0       0              0          0  ...   \n",
       "2     110015.759342      300.0       0              0          0  ...   \n",
       "3     102736.696718      230.0       0              0          0  ...   \n",
       "4     107971.587679      230.0       0              0          0  ...   \n",
       "\n",
       "          model  number_of_doors  performance  popularity  transmission_type  \\\n",
       "0  39893.794974              2.0            1        3916       26515.792573   \n",
       "1  38046.062616              2.0            1        3916       26228.751544   \n",
       "2  37608.541828              2.0            1        3916       26954.973923   \n",
       "3  40370.003185              2.0            1        3916       26243.424651   \n",
       "4  38816.838751              2.0            0        3916       27696.029584   \n",
       "\n",
       "   unknown  vehicle_size  vehicle_style  year   msrp  \n",
       "0        0  35734.242986   69028.743603  2011  46135  \n",
       "1        0  34719.328629   94719.337541  2011  40650  \n",
       "2        0  37142.785074   75810.619046  2011  36350  \n",
       "3        0  35472.895602   71997.856596  2011  29450  \n",
       "4        0  35688.465635   83708.645015  2011  34500  \n",
       "\n",
       "[5 rows x 26 columns]"
      ]
     },
     "execution_count": 5,
     "metadata": {},
     "output_type": "execute_result"
    }
   ],
   "source": [
    "from category_encoders import LeaveOneOutEncoder\n",
    "\n",
    "cars_df['market_category'] = cars_df['market_category'].fillna('unknown')\n",
    "unique_categories = list(cars_df['market_category'].unique())\n",
    "single_categories = {}\n",
    "for cats in unique_categories:\n",
    "    split_cats = cats.split(',')\n",
    "    for cat in split_cats:\n",
    "        single_categories[cat] = 1\n",
    "for cat in single_categories.keys():\n",
    "    cars_df[cat] = 0\n",
    "    cars_df.loc[cars_df['market_category'].str.find(cat) != -1, cat] = 1\n",
    "del cars_df['market_category']\n",
    "enc = LeaveOneOutEncoder(cols=['make', 'model', 'engine_fuel_type', 'transmission_type', 'driven_wheels', 'vehicle_size', 'vehicle_style'], sigma=0.05)\n",
    "msrp = cars_df['msrp']\n",
    "cars_df = enc.fit_transform(cars_df[cars_df.columns.difference(['msrp'])], cars_df['msrp'])\n",
    "cars_df['msrp'] = msrp\n",
    "cars_df.head()"
   ]
  },
  {
   "cell_type": "markdown",
   "id": "clear-extraction",
   "metadata": {},
   "source": [
    "### Correlations\n",
    "\n",
    "Next, we map out the correlations in the data.  This may prove useful if we need to reduce the number of features later. Reducing the features by eliminating features that already are represented by other features through their correlations is a good start.\n",
    "\n",
    "Here's why that's important:\n",
    "\n",
    "\"It turns out that many things behave very differently in high-dimensional space. For\n",
    "example, if you pick a random point in a unit square (a 1 × 1 square), it will have only\n",
    "about a 0.4% chance of being located less than 0.001 from a border (in other words, it\n",
    "is very unlikely that a random point will be “extreme” along any dimension). But in a\n",
    "10,000-dimensional unit hypercube, this probability is greater than 99.999999%. Most\n",
    "points in a high-dimensional hypercube are very close to the border.\"\n",
    "\n",
    "\"Here is a more troublesome difference: if you pick two points randomly in a unit\n",
    "square, the distance between these two points will be, on average, roughly 0.52. If you\n",
    "pick two random points in a unit 3D cube, the average distance will be roughly 0.66.\n",
    "But what about two points picked randomly in a 1,000,000-dimensional hypercube?\n",
    "The average distance, believe it or not, will be about 408.25 (roughly 1, 000, 000/6)!\n",
    "This is counterintuitive: how can two points be so far apart when they both lie within\n",
    "the same unit hypercube? Well, there’s just plenty of space in high dimensions. As a\n",
    "result, high-dimensional datasets are at risk of being very sparse: most training\n",
    "instances are likely to be far away from each other. This also means that a new\n",
    "instance will likely be far away from any training instance, making predictions much\n",
    "less reliable than in lower dimensions, since they will be based on much larger extrap‐\n",
    "olations. In short, the more dimensions the training set has, the greater the risk of\n",
    "overfitting it.\"\n",
    "\n",
    "\"In theory, one solution to the curse of dimensionality could be to increase the size of\n",
    "the training set to reach a sufficient density of training instances. Unfortunately, in\n",
    "practice, the number of training instances required to reach a given density grows\n",
    "exponentially with the number of dimensions. With just 100 features (significantly\n",
    "fewer than in the MNIST problem), you would need more training instances than\n",
    "atoms in the observable universe in order for training instances to be within 0.1 of\n",
    "each other on average, assuming they were spread out uniformly across all dimen‐\n",
    "sions.\"[^curse-of-dimensionality]\n",
    "\n",
    "[^curse-of-dimensionality]: Géron, A. (2019). Hands-on machine learning with Scikit-Learn, Keras and TensorFlow: concepts, tools, and techniques to build intelligent systems (2nd ed.). O’Reilly."
   ]
  },
  {
   "cell_type": "code",
   "execution_count": 6,
   "id": "helpful-bumper",
   "metadata": {},
   "outputs": [
    {
     "data": {
      "text/plain": [
       "<AxesSubplot:>"
      ]
     },
     "execution_count": 6,
     "metadata": {},
     "output_type": "execute_result"
    },
    {
     "data": {
      "image/png": "[encoded data removed]",
      "text/plain": [
       "<Figure size 864x720 with 2 Axes>"
      ]
     },
     "metadata": {
      "needs_background": "light"
     },
     "output_type": "display_data"
    }
   ],
   "source": [
    "cars_corr = cars_df.corr()\n",
    "import matplotlib.pyplot as plt\n",
    "\n",
    "fig, ax = plt.subplots(figsize=(12,10))         # Sample figsize in inches\n",
    "sns.heatmap(data=cars_corr, ax=ax)"
   ]
  },
  {
   "cell_type": "markdown",
   "id": "compatible-marking",
   "metadata": {},
   "source": [
    "Here we see there are a number of columns that are highly correlated between each other.  Let's put this into a list form to make it easier to distinguish."
   ]
  },
  {
   "cell_type": "code",
   "execution_count": 7,
   "id": "occasional-valuation",
   "metadata": {},
   "outputs": [
    {
     "name": "stdout",
     "output_type": "stream",
     "text": [
      "city_mpg and engine_cylinders are highly (inversely) correlated (-0.6007763119730489)\n",
      "city_mpg and highway_mpg are highly (inversely) correlated (0.8868294962591425)\n",
      "engine_cylinders and engine_hp are highly (inversely) correlated (0.7799879704685257)\n",
      "engine_cylinders and highway_mpg are highly (inversely) correlated (-0.6216057332861783)\n",
      "engine_hp and high_performance are highly (inversely) correlated (0.6557040157675598)\n",
      "engine_hp and model are highly (inversely) correlated (0.646005344927799)\n",
      "exotic and make are highly (inversely) correlated (0.7161338704725522)\n",
      "exotic and model are highly (inversely) correlated (0.6550931579727469)\n",
      "make and model are highly (inversely) correlated (0.8691867845850091)\n"
     ]
    }
   ],
   "source": [
    "correlations_already = []\n",
    "for t in cars_corr.itertuples():\n",
    "    index = ''\n",
    "    for k, v in t._asdict().items():\n",
    "        if(k == 'Index'):\n",
    "            index = v\n",
    "            continue\n",
    "        if(index == k or k == 'msrp' or index == 'msrp'):\n",
    "            continue\n",
    "        if(abs(v) > 0.6 and (index, k) not in correlations_already):\n",
    "            print(\"{} and {} are highly (inversely) correlated ({})\".format(index, k, v))\n",
    "            correlations_already.append((index, k))\n",
    "            correlations_already.append((k, index))"
   ]
  },
  {
   "cell_type": "markdown",
   "id": "female-horror",
   "metadata": {},
   "source": [
    "These correlations come with a bonus: data validation.  When validating new data entered by users or other sources, we can check whether the new data correlates in a similar manner.  If it doesn't, it is probably erroneous, and flag it for review."
   ]
  },
  {
   "cell_type": "markdown",
   "id": "comparative-appreciation",
   "metadata": {},
   "source": []
  },
  {
   "cell_type": "code",
   "execution_count": 8,
   "id": "greater-leather",
   "metadata": {},
   "outputs": [
    {
     "data": {
      "text/plain": [
       "<seaborn.axisgrid.FacetGrid at 0x1727c3160a0>"
      ]
     },
     "execution_count": 8,
     "metadata": {},
     "output_type": "execute_result"
    },
    {
     "data": {
      "image/png": "[encoded data removed]",
      "text/plain": [
       "<Figure size 360x360 with 1 Axes>"
      ]
     },
     "metadata": {
      "needs_background": "light"
     },
     "output_type": "display_data"
    }
   ],
   "source": [
    "sns.displot(cars_df.msrp, kde=False)"
   ]
  },
  {
   "cell_type": "code",
   "execution_count": 9,
   "id": "narrative-perception",
   "metadata": {},
   "outputs": [
    {
     "data": {
      "text/plain": [
       "<seaborn.axisgrid.FacetGrid at 0x1726ff27e20>"
      ]
     },
     "execution_count": 9,
     "metadata": {},
     "output_type": "execute_result"
    },
    {
     "data": {
      "image/png": "[encoded data removed]",
      "text/plain": [
       "<Figure size 360x360 with 1 Axes>"
      ]
     },
     "metadata": {
      "needs_background": "light"
     },
     "output_type": "display_data"
    }
   ],
   "source": [
    "sns.displot(cars_df.msrp[cars_df.msrp < 100000], kde=False)"
   ]
  },
  {
   "cell_type": "markdown",
   "id": "peaceful-stadium",
   "metadata": {},
   "source": [
    "We need to normalize these a bit.  Let's try Box-Cox and logarithm transformations to see what the distribution looks like."
   ]
  },
  {
   "cell_type": "code",
   "execution_count": 10,
   "id": "organized-british",
   "metadata": {},
   "outputs": [],
   "source": [
    "boxcox_prices = sp.stats.boxcox(cars_df.msrp)\n",
    "log_prices = np.log1p(cars_df.msrp)"
   ]
  },
  {
   "cell_type": "code",
   "execution_count": 11,
   "id": "offshore-scanning",
   "metadata": {},
   "outputs": [
    {
     "data": {
      "text/plain": [
       "<seaborn.axisgrid.FacetGrid at 0x1727ccb2f40>"
      ]
     },
     "execution_count": 11,
     "metadata": {},
     "output_type": "execute_result"
    },
    {
     "data": {
      "image/png": "[encoded data removed]",
      "text/plain": [
       "<Figure size 402.375x360 with 1 Axes>"
      ]
     },
     "metadata": {
      "needs_background": "light"
     },
     "output_type": "display_data"
    }
   ],
   "source": [
    "sns.displot(boxcox_prices, kde=False)"
   ]
  },
  {
   "cell_type": "code",
   "execution_count": 12,
   "id": "blank-grass",
   "metadata": {},
   "outputs": [
    {
     "data": {
      "text/plain": [
       "<seaborn.axisgrid.FacetGrid at 0x1727caf96a0>"
      ]
     },
     "execution_count": 12,
     "metadata": {},
     "output_type": "execute_result"
    },
    {
     "data": {
      "image/png": "[encoded data removed]",
      "text/plain": [
       "<Figure size 360x360 with 1 Axes>"
      ]
     },
     "metadata": {
      "needs_background": "light"
     },
     "output_type": "display_data"
    }
   ],
   "source": [
    "sns.displot(log_prices, kde=False)"
   ]
  },
  {
   "cell_type": "markdown",
   "id": "widespread-hamilton",
   "metadata": {},
   "source": [
    "It looks like the logarithm transformation is a bit more normal, where the tails are not as long and a little flatter on the left side.  We'll stick with that one."
   ]
  },
  {
   "cell_type": "code",
   "execution_count": 13,
   "id": "superb-dispatch",
   "metadata": {},
   "outputs": [
    {
     "data": {
      "text/html": [
       "<div>\n",
       "<style scoped>\n",
       "    .dataframe tbody tr th:only-of-type {\n",
       "        vertical-align: middle;\n",
       "    }\n",
       "\n",
       "    .dataframe tbody tr th {\n",
       "        vertical-align: top;\n",
       "    }\n",
       "\n",
       "    .dataframe thead th {\n",
       "        text-align: right;\n",
       "    }\n",
       "</style>\n",
       "<table border=\"1\" class=\"dataframe\">\n",
       "  <thead>\n",
       "    <tr style=\"text-align: right;\">\n",
       "      <th></th>\n",
       "      <th>city_mpg</th>\n",
       "      <th>crossover</th>\n",
       "      <th>diesel</th>\n",
       "      <th>driven_wheels</th>\n",
       "      <th>engine_cylinders</th>\n",
       "      <th>engine_fuel_type</th>\n",
       "      <th>engine_hp</th>\n",
       "      <th>exotic</th>\n",
       "      <th>factory_tuner</th>\n",
       "      <th>flex_fuel</th>\n",
       "      <th>...</th>\n",
       "      <th>model</th>\n",
       "      <th>number_of_doors</th>\n",
       "      <th>performance</th>\n",
       "      <th>popularity</th>\n",
       "      <th>transmission_type</th>\n",
       "      <th>unknown</th>\n",
       "      <th>vehicle_size</th>\n",
       "      <th>vehicle_style</th>\n",
       "      <th>year</th>\n",
       "      <th>msrp</th>\n",
       "    </tr>\n",
       "  </thead>\n",
       "  <tbody>\n",
       "    <tr>\n",
       "      <th>0</th>\n",
       "      <td>19</td>\n",
       "      <td>0</td>\n",
       "      <td>0</td>\n",
       "      <td>54509.568880</td>\n",
       "      <td>6.0</td>\n",
       "      <td>104174.319216</td>\n",
       "      <td>335.0</td>\n",
       "      <td>0</td>\n",
       "      <td>1</td>\n",
       "      <td>0</td>\n",
       "      <td>...</td>\n",
       "      <td>39893.794974</td>\n",
       "      <td>2.0</td>\n",
       "      <td>1</td>\n",
       "      <td>3916</td>\n",
       "      <td>26515.792573</td>\n",
       "      <td>0</td>\n",
       "      <td>35734.242986</td>\n",
       "      <td>69028.743603</td>\n",
       "      <td>2011</td>\n",
       "      <td>46135</td>\n",
       "    </tr>\n",
       "    <tr>\n",
       "      <th>1</th>\n",
       "      <td>19</td>\n",
       "      <td>0</td>\n",
       "      <td>0</td>\n",
       "      <td>55202.393232</td>\n",
       "      <td>6.0</td>\n",
       "      <td>106043.780241</td>\n",
       "      <td>300.0</td>\n",
       "      <td>0</td>\n",
       "      <td>0</td>\n",
       "      <td>0</td>\n",
       "      <td>...</td>\n",
       "      <td>38046.062616</td>\n",
       "      <td>2.0</td>\n",
       "      <td>1</td>\n",
       "      <td>3916</td>\n",
       "      <td>26228.751544</td>\n",
       "      <td>0</td>\n",
       "      <td>34719.328629</td>\n",
       "      <td>94719.337541</td>\n",
       "      <td>2011</td>\n",
       "      <td>40650</td>\n",
       "    </tr>\n",
       "    <tr>\n",
       "      <th>2</th>\n",
       "      <td>20</td>\n",
       "      <td>0</td>\n",
       "      <td>0</td>\n",
       "      <td>47188.326365</td>\n",
       "      <td>6.0</td>\n",
       "      <td>110015.759342</td>\n",
       "      <td>300.0</td>\n",
       "      <td>0</td>\n",
       "      <td>0</td>\n",
       "      <td>0</td>\n",
       "      <td>...</td>\n",
       "      <td>37608.541828</td>\n",
       "      <td>2.0</td>\n",
       "      <td>1</td>\n",
       "      <td>3916</td>\n",
       "      <td>26954.973923</td>\n",
       "      <td>0</td>\n",
       "      <td>37142.785074</td>\n",
       "      <td>75810.619046</td>\n",
       "      <td>2011</td>\n",
       "      <td>36350</td>\n",
       "    </tr>\n",
       "    <tr>\n",
       "      <th>3</th>\n",
       "      <td>18</td>\n",
       "      <td>0</td>\n",
       "      <td>0</td>\n",
       "      <td>53116.920262</td>\n",
       "      <td>6.0</td>\n",
       "      <td>102736.696718</td>\n",
       "      <td>230.0</td>\n",
       "      <td>0</td>\n",
       "      <td>0</td>\n",
       "      <td>0</td>\n",
       "      <td>...</td>\n",
       "      <td>40370.003185</td>\n",
       "      <td>2.0</td>\n",
       "      <td>1</td>\n",
       "      <td>3916</td>\n",
       "      <td>26243.424651</td>\n",
       "      <td>0</td>\n",
       "      <td>35472.895602</td>\n",
       "      <td>71997.856596</td>\n",
       "      <td>2011</td>\n",
       "      <td>29450</td>\n",
       "    </tr>\n",
       "    <tr>\n",
       "      <th>4</th>\n",
       "      <td>18</td>\n",
       "      <td>0</td>\n",
       "      <td>0</td>\n",
       "      <td>57493.813855</td>\n",
       "      <td>6.0</td>\n",
       "      <td>107971.587679</td>\n",
       "      <td>230.0</td>\n",
       "      <td>0</td>\n",
       "      <td>0</td>\n",
       "      <td>0</td>\n",
       "      <td>...</td>\n",
       "      <td>38816.838751</td>\n",
       "      <td>2.0</td>\n",
       "      <td>0</td>\n",
       "      <td>3916</td>\n",
       "      <td>27696.029584</td>\n",
       "      <td>0</td>\n",
       "      <td>35688.465635</td>\n",
       "      <td>83708.645015</td>\n",
       "      <td>2011</td>\n",
       "      <td>34500</td>\n",
       "    </tr>\n",
       "  </tbody>\n",
       "</table>\n",
       "<p>5 rows × 26 columns</p>\n",
       "</div>"
      ],
      "text/plain": [
       "   city_mpg  crossover  diesel  driven_wheels  engine_cylinders  \\\n",
       "0        19          0       0   54509.568880               6.0   \n",
       "1        19          0       0   55202.393232               6.0   \n",
       "2        20          0       0   47188.326365               6.0   \n",
       "3        18          0       0   53116.920262               6.0   \n",
       "4        18          0       0   57493.813855               6.0   \n",
       "\n",
       "   engine_fuel_type  engine_hp  exotic  factory_tuner  flex_fuel  ...  \\\n",
       "0     104174.319216      335.0       0              1          0  ...   \n",
       "1     106043.780241      300.0       0              0          0  ...   \n",
       "2     110015.759342      300.0       0              0          0  ...   \n",
       "3     102736.696718      230.0       0              0          0  ...   \n",
       "4     107971.587679      230.0       0              0          0  ...   \n",
       "\n",
       "          model  number_of_doors  performance  popularity  transmission_type  \\\n",
       "0  39893.794974              2.0            1        3916       26515.792573   \n",
       "1  38046.062616              2.0            1        3916       26228.751544   \n",
       "2  37608.541828              2.0            1        3916       26954.973923   \n",
       "3  40370.003185              2.0            1        3916       26243.424651   \n",
       "4  38816.838751              2.0            0        3916       27696.029584   \n",
       "\n",
       "   unknown  vehicle_size  vehicle_style  year   msrp  \n",
       "0        0  35734.242986   69028.743603  2011  46135  \n",
       "1        0  34719.328629   94719.337541  2011  40650  \n",
       "2        0  37142.785074   75810.619046  2011  36350  \n",
       "3        0  35472.895602   71997.856596  2011  29450  \n",
       "4        0  35688.465635   83708.645015  2011  34500  \n",
       "\n",
       "[5 rows x 26 columns]"
      ]
     },
     "execution_count": 13,
     "metadata": {},
     "output_type": "execute_result"
    }
   ],
   "source": [
    "cars_df.head()"
   ]
  },
  {
   "cell_type": "code",
   "execution_count": 14,
   "id": "solar-stocks",
   "metadata": {},
   "outputs": [],
   "source": [
    "cars_df['msrp'] = np.log1p(cars_df['msrp'])"
   ]
  },
  {
   "cell_type": "markdown",
   "id": "exciting-token",
   "metadata": {},
   "source": [
    "The rows with NaN are dropped. The counts are not too high, accounting for only 0.8% of the total data, not enough to make a significant difference."
   ]
  },
  {
   "cell_type": "code",
   "execution_count": 15,
   "id": "administrative-vegetarian",
   "metadata": {},
   "outputs": [
    {
     "data": {
      "text/plain": [
       "city_mpg              0\n",
       "crossover             0\n",
       "diesel                0\n",
       "driven_wheels         0\n",
       "engine_cylinders     30\n",
       "engine_fuel_type      0\n",
       "engine_hp            69\n",
       "exotic                0\n",
       "factory_tuner         0\n",
       "flex_fuel             0\n",
       "hatchback             0\n",
       "high_performance      0\n",
       "highway_mpg           0\n",
       "hybrid                0\n",
       "luxury                0\n",
       "make                  0\n",
       "model                 0\n",
       "number_of_doors       6\n",
       "performance           0\n",
       "popularity            0\n",
       "transmission_type     0\n",
       "unknown               0\n",
       "vehicle_size          0\n",
       "vehicle_style         0\n",
       "year                  0\n",
       "msrp                  0\n",
       "dtype: int64"
      ]
     },
     "execution_count": 15,
     "metadata": {},
     "output_type": "execute_result"
    }
   ],
   "source": [
    "cars_df.isnull().sum()"
   ]
  },
  {
   "cell_type": "code",
   "execution_count": 16,
   "id": "appreciated-province",
   "metadata": {},
   "outputs": [],
   "source": [
    "cars_df = cars_df.dropna()\n",
    "if 'unknown' in cars_df.keys():\n",
    "    del cars_df['unknown']"
   ]
  },
  {
   "cell_type": "markdown",
   "id": "horizontal-psychiatry",
   "metadata": {},
   "source": [
    "Now that all the columns are converted to a numeric representation, scale the columns to a standard scale of 0 to 1.  This should help eliminate weighting too much based on a column, and it will make things more easy to compare.\n",
    "\n",
    "We may change this to use the StandardScaler to test if our accuracy improves.\n",
    "\n",
    "This page shows the importance of scaling: https://scikit-learn.org/stable/auto_examples/preprocessing/plot_scaling_importance.html#sphx-glr-auto-examples-preprocessing-plot-scaling-importance-py.  In particular, \"many algorithms (such as SVM, K-nearest neighbors, and logistic regression) require features to be normalized\".\n",
    "\n",
    "This page shows how to use the scalers: https://androidkt.com/how-to-normalize-scale-standardize-pandas-dataframe-columns-using-scikit-learn/"
   ]
  },
  {
   "cell_type": "code",
   "execution_count": 17,
   "id": "defined-bunny",
   "metadata": {},
   "outputs": [
    {
     "data": {
      "text/html": [
       "<div>\n",
       "<style scoped>\n",
       "    .dataframe tbody tr th:only-of-type {\n",
       "        vertical-align: middle;\n",
       "    }\n",
       "\n",
       "    .dataframe tbody tr th {\n",
       "        vertical-align: top;\n",
       "    }\n",
       "\n",
       "    .dataframe thead th {\n",
       "        text-align: right;\n",
       "    }\n",
       "</style>\n",
       "<table border=\"1\" class=\"dataframe\">\n",
       "  <thead>\n",
       "    <tr style=\"text-align: right;\">\n",
       "      <th></th>\n",
       "      <th>city_mpg</th>\n",
       "      <th>crossover</th>\n",
       "      <th>diesel</th>\n",
       "      <th>driven_wheels</th>\n",
       "      <th>engine_cylinders</th>\n",
       "      <th>engine_fuel_type</th>\n",
       "      <th>engine_hp</th>\n",
       "      <th>exotic</th>\n",
       "      <th>factory_tuner</th>\n",
       "      <th>flex_fuel</th>\n",
       "      <th>...</th>\n",
       "      <th>make</th>\n",
       "      <th>model</th>\n",
       "      <th>number_of_doors</th>\n",
       "      <th>performance</th>\n",
       "      <th>popularity</th>\n",
       "      <th>transmission_type</th>\n",
       "      <th>vehicle_size</th>\n",
       "      <th>vehicle_style</th>\n",
       "      <th>year</th>\n",
       "      <th>msrp</th>\n",
       "    </tr>\n",
       "  </thead>\n",
       "  <tbody>\n",
       "    <tr>\n",
       "      <th>0</th>\n",
       "      <td>-0.050186</td>\n",
       "      <td>-0.454936</td>\n",
       "      <td>-0.13288</td>\n",
       "      <td>0.872292</td>\n",
       "      <td>0.200123</td>\n",
       "      <td>2.133668</td>\n",
       "      <td>0.783154</td>\n",
       "      <td>-0.20623</td>\n",
       "      <td>4.256539</td>\n",
       "      <td>-0.33482</td>\n",
       "      <td>...</td>\n",
       "      <td>0.356431</td>\n",
       "      <td>-0.005122</td>\n",
       "      <td>-1.622841</td>\n",
       "      <td>1.555214</td>\n",
       "      <td>1.640774</td>\n",
       "      <td>-0.911364</td>\n",
       "      <td>-0.617261</td>\n",
       "      <td>1.455908</td>\n",
       "      <td>0.084281</td>\n",
       "      <td>0.567811</td>\n",
       "    </tr>\n",
       "    <tr>\n",
       "      <th>1</th>\n",
       "      <td>-0.050186</td>\n",
       "      <td>-0.454936</td>\n",
       "      <td>-0.13288</td>\n",
       "      <td>0.915754</td>\n",
       "      <td>0.200123</td>\n",
       "      <td>2.196338</td>\n",
       "      <td>0.462638</td>\n",
       "      <td>-0.20623</td>\n",
       "      <td>-0.234933</td>\n",
       "      <td>-0.33482</td>\n",
       "      <td>...</td>\n",
       "      <td>0.507996</td>\n",
       "      <td>-0.037274</td>\n",
       "      <td>-1.622841</td>\n",
       "      <td>1.555214</td>\n",
       "      <td>1.640774</td>\n",
       "      <td>-0.929944</td>\n",
       "      <td>-0.745617</td>\n",
       "      <td>2.770998</td>\n",
       "      <td>0.084281</td>\n",
       "      <td>0.453622</td>\n",
       "    </tr>\n",
       "    <tr>\n",
       "      <th>2</th>\n",
       "      <td>0.103030</td>\n",
       "      <td>-0.454936</td>\n",
       "      <td>-0.13288</td>\n",
       "      <td>0.413016</td>\n",
       "      <td>0.200123</td>\n",
       "      <td>2.329492</td>\n",
       "      <td>0.462638</td>\n",
       "      <td>-0.20623</td>\n",
       "      <td>-0.234933</td>\n",
       "      <td>-0.33482</td>\n",
       "      <td>...</td>\n",
       "      <td>0.442365</td>\n",
       "      <td>-0.044887</td>\n",
       "      <td>-1.622841</td>\n",
       "      <td>1.555214</td>\n",
       "      <td>1.640774</td>\n",
       "      <td>-0.882935</td>\n",
       "      <td>-0.439123</td>\n",
       "      <td>1.803069</td>\n",
       "      <td>0.084281</td>\n",
       "      <td>0.352757</td>\n",
       "    </tr>\n",
       "    <tr>\n",
       "      <th>3</th>\n",
       "      <td>-0.203402</td>\n",
       "      <td>-0.454936</td>\n",
       "      <td>-0.13288</td>\n",
       "      <td>0.784929</td>\n",
       "      <td>0.200123</td>\n",
       "      <td>2.085474</td>\n",
       "      <td>-0.178395</td>\n",
       "      <td>-0.20623</td>\n",
       "      <td>-0.234933</td>\n",
       "      <td>-0.33482</td>\n",
       "      <td>...</td>\n",
       "      <td>0.446666</td>\n",
       "      <td>0.003164</td>\n",
       "      <td>-1.622841</td>\n",
       "      <td>1.555214</td>\n",
       "      <td>1.640774</td>\n",
       "      <td>-0.928995</td>\n",
       "      <td>-0.650314</td>\n",
       "      <td>1.607896</td>\n",
       "      <td>0.084281</td>\n",
       "      <td>0.162855</td>\n",
       "    </tr>\n",
       "    <tr>\n",
       "      <th>4</th>\n",
       "      <td>-0.203402</td>\n",
       "      <td>-0.454936</td>\n",
       "      <td>-0.13288</td>\n",
       "      <td>1.059500</td>\n",
       "      <td>0.200123</td>\n",
       "      <td>2.260964</td>\n",
       "      <td>-0.178395</td>\n",
       "      <td>-0.20623</td>\n",
       "      <td>-0.234933</td>\n",
       "      <td>-0.33482</td>\n",
       "      <td>...</td>\n",
       "      <td>0.391320</td>\n",
       "      <td>-0.023862</td>\n",
       "      <td>-1.622841</td>\n",
       "      <td>-0.642998</td>\n",
       "      <td>1.640774</td>\n",
       "      <td>-0.834965</td>\n",
       "      <td>-0.623051</td>\n",
       "      <td>2.207365</td>\n",
       "      <td>0.084281</td>\n",
       "      <td>0.305634</td>\n",
       "    </tr>\n",
       "    <tr>\n",
       "      <th>...</th>\n",
       "      <td>...</td>\n",
       "      <td>...</td>\n",
       "      <td>...</td>\n",
       "      <td>...</td>\n",
       "      <td>...</td>\n",
       "      <td>...</td>\n",
       "      <td>...</td>\n",
       "      <td>...</td>\n",
       "      <td>...</td>\n",
       "      <td>...</td>\n",
       "      <td>...</td>\n",
       "      <td>...</td>\n",
       "      <td>...</td>\n",
       "      <td>...</td>\n",
       "      <td>...</td>\n",
       "      <td>...</td>\n",
       "      <td>...</td>\n",
       "      <td>...</td>\n",
       "      <td>...</td>\n",
       "      <td>...</td>\n",
       "      <td>...</td>\n",
       "    </tr>\n",
       "    <tr>\n",
       "      <th>11810</th>\n",
       "      <td>-0.509834</td>\n",
       "      <td>2.198110</td>\n",
       "      <td>-0.13288</td>\n",
       "      <td>1.186992</td>\n",
       "      <td>0.200123</td>\n",
       "      <td>1.978288</td>\n",
       "      <td>0.462638</td>\n",
       "      <td>-0.20623</td>\n",
       "      <td>-0.234933</td>\n",
       "      <td>-0.33482</td>\n",
       "      <td>...</td>\n",
       "      <td>-0.097939</td>\n",
       "      <td>0.177891</td>\n",
       "      <td>0.642636</td>\n",
       "      <td>-0.642998</td>\n",
       "      <td>-0.937137</td>\n",
       "      <td>-0.095517</td>\n",
       "      <td>0.242962</td>\n",
       "      <td>-0.886330</td>\n",
       "      <td>0.215963</td>\n",
       "      <td>0.567517</td>\n",
       "    </tr>\n",
       "    <tr>\n",
       "      <th>11811</th>\n",
       "      <td>-0.509834</td>\n",
       "      <td>2.198110</td>\n",
       "      <td>-0.13288</td>\n",
       "      <td>0.663779</td>\n",
       "      <td>0.200123</td>\n",
       "      <td>1.903154</td>\n",
       "      <td>0.462638</td>\n",
       "      <td>-0.20623</td>\n",
       "      <td>-0.234933</td>\n",
       "      <td>-0.33482</td>\n",
       "      <td>...</td>\n",
       "      <td>-0.111258</td>\n",
       "      <td>0.200031</td>\n",
       "      <td>0.642636</td>\n",
       "      <td>-0.642998</td>\n",
       "      <td>-0.937137</td>\n",
       "      <td>-0.054984</td>\n",
       "      <td>-0.379416</td>\n",
       "      <td>-0.929406</td>\n",
       "      <td>0.215963</td>\n",
       "      <td>0.753360</td>\n",
       "    </tr>\n",
       "    <tr>\n",
       "      <th>11812</th>\n",
       "      <td>-0.509834</td>\n",
       "      <td>2.198110</td>\n",
       "      <td>-0.13288</td>\n",
       "      <td>1.209599</td>\n",
       "      <td>0.200123</td>\n",
       "      <td>2.077478</td>\n",
       "      <td>0.462638</td>\n",
       "      <td>-0.20623</td>\n",
       "      <td>-0.234933</td>\n",
       "      <td>-0.33482</td>\n",
       "      <td>...</td>\n",
       "      <td>-0.126102</td>\n",
       "      <td>0.226877</td>\n",
       "      <td>0.642636</td>\n",
       "      <td>-0.642998</td>\n",
       "      <td>-0.937137</td>\n",
       "      <td>0.157102</td>\n",
       "      <td>-0.091215</td>\n",
       "      <td>-0.929311</td>\n",
       "      <td>0.215963</td>\n",
       "      <td>0.651508</td>\n",
       "    </tr>\n",
       "    <tr>\n",
       "      <th>11813</th>\n",
       "      <td>-0.509834</td>\n",
       "      <td>2.198110</td>\n",
       "      <td>-0.13288</td>\n",
       "      <td>1.509200</td>\n",
       "      <td>0.200123</td>\n",
       "      <td>0.012759</td>\n",
       "      <td>0.462638</td>\n",
       "      <td>-0.20623</td>\n",
       "      <td>-0.234933</td>\n",
       "      <td>-0.33482</td>\n",
       "      <td>...</td>\n",
       "      <td>-0.075792</td>\n",
       "      <td>0.181417</td>\n",
       "      <td>0.642636</td>\n",
       "      <td>-0.642998</td>\n",
       "      <td>-0.937137</td>\n",
       "      <td>0.002418</td>\n",
       "      <td>-0.495835</td>\n",
       "      <td>-0.948520</td>\n",
       "      <td>0.347646</td>\n",
       "      <td>0.656839</td>\n",
       "    </tr>\n",
       "    <tr>\n",
       "      <th>11814</th>\n",
       "      <td>-0.356618</td>\n",
       "      <td>-0.454936</td>\n",
       "      <td>-0.13288</td>\n",
       "      <td>-1.101190</td>\n",
       "      <td>0.200123</td>\n",
       "      <td>-0.577836</td>\n",
       "      <td>-0.260813</td>\n",
       "      <td>-0.20623</td>\n",
       "      <td>-0.234933</td>\n",
       "      <td>-0.33482</td>\n",
       "      <td>...</td>\n",
       "      <td>0.033656</td>\n",
       "      <td>0.001647</td>\n",
       "      <td>0.642636</td>\n",
       "      <td>-0.642998</td>\n",
       "      <td>-1.036448</td>\n",
       "      <td>0.028767</td>\n",
       "      <td>-1.045520</td>\n",
       "      <td>-0.095887</td>\n",
       "      <td>-0.574130</td>\n",
       "      <td>0.148808</td>\n",
       "    </tr>\n",
       "  </tbody>\n",
       "</table>\n",
       "<p>11815 rows × 25 columns</p>\n",
       "</div>"
      ],
      "text/plain": [
       "       city_mpg  crossover   diesel  driven_wheels  engine_cylinders  \\\n",
       "0     -0.050186  -0.454936 -0.13288       0.872292          0.200123   \n",
       "1     -0.050186  -0.454936 -0.13288       0.915754          0.200123   \n",
       "2      0.103030  -0.454936 -0.13288       0.413016          0.200123   \n",
       "3     -0.203402  -0.454936 -0.13288       0.784929          0.200123   \n",
       "4     -0.203402  -0.454936 -0.13288       1.059500          0.200123   \n",
       "...         ...        ...      ...            ...               ...   \n",
       "11810 -0.509834   2.198110 -0.13288       1.186992          0.200123   \n",
       "11811 -0.509834   2.198110 -0.13288       0.663779          0.200123   \n",
       "11812 -0.509834   2.198110 -0.13288       1.209599          0.200123   \n",
       "11813 -0.509834   2.198110 -0.13288       1.509200          0.200123   \n",
       "11814 -0.356618  -0.454936 -0.13288      -1.101190          0.200123   \n",
       "\n",
       "       engine_fuel_type  engine_hp   exotic  factory_tuner  flex_fuel  ...  \\\n",
       "0              2.133668   0.783154 -0.20623       4.256539   -0.33482  ...   \n",
       "1              2.196338   0.462638 -0.20623      -0.234933   -0.33482  ...   \n",
       "2              2.329492   0.462638 -0.20623      -0.234933   -0.33482  ...   \n",
       "3              2.085474  -0.178395 -0.20623      -0.234933   -0.33482  ...   \n",
       "4              2.260964  -0.178395 -0.20623      -0.234933   -0.33482  ...   \n",
       "...                 ...        ...      ...            ...        ...  ...   \n",
       "11810          1.978288   0.462638 -0.20623      -0.234933   -0.33482  ...   \n",
       "11811          1.903154   0.462638 -0.20623      -0.234933   -0.33482  ...   \n",
       "11812          2.077478   0.462638 -0.20623      -0.234933   -0.33482  ...   \n",
       "11813          0.012759   0.462638 -0.20623      -0.234933   -0.33482  ...   \n",
       "11814         -0.577836  -0.260813 -0.20623      -0.234933   -0.33482  ...   \n",
       "\n",
       "           make     model  number_of_doors  performance  popularity  \\\n",
       "0      0.356431 -0.005122        -1.622841     1.555214    1.640774   \n",
       "1      0.507996 -0.037274        -1.622841     1.555214    1.640774   \n",
       "2      0.442365 -0.044887        -1.622841     1.555214    1.640774   \n",
       "3      0.446666  0.003164        -1.622841     1.555214    1.640774   \n",
       "4      0.391320 -0.023862        -1.622841    -0.642998    1.640774   \n",
       "...         ...       ...              ...          ...         ...   \n",
       "11810 -0.097939  0.177891         0.642636    -0.642998   -0.937137   \n",
       "11811 -0.111258  0.200031         0.642636    -0.642998   -0.937137   \n",
       "11812 -0.126102  0.226877         0.642636    -0.642998   -0.937137   \n",
       "11813 -0.075792  0.181417         0.642636    -0.642998   -0.937137   \n",
       "11814  0.033656  0.001647         0.642636    -0.642998   -1.036448   \n",
       "\n",
       "       transmission_type  vehicle_size  vehicle_style      year      msrp  \n",
       "0              -0.911364     -0.617261       1.455908  0.084281  0.567811  \n",
       "1              -0.929944     -0.745617       2.770998  0.084281  0.453622  \n",
       "2              -0.882935     -0.439123       1.803069  0.084281  0.352757  \n",
       "3              -0.928995     -0.650314       1.607896  0.084281  0.162855  \n",
       "4              -0.834965     -0.623051       2.207365  0.084281  0.305634  \n",
       "...                  ...           ...            ...       ...       ...  \n",
       "11810          -0.095517      0.242962      -0.886330  0.215963  0.567517  \n",
       "11811          -0.054984     -0.379416      -0.929406  0.215963  0.753360  \n",
       "11812           0.157102     -0.091215      -0.929311  0.215963  0.651508  \n",
       "11813           0.002418     -0.495835      -0.948520  0.347646  0.656839  \n",
       "11814           0.028767     -1.045520      -0.095887 -0.574130  0.148808  \n",
       "\n",
       "[11815 rows x 25 columns]"
      ]
     },
     "execution_count": 17,
     "metadata": {},
     "output_type": "execute_result"
    }
   ],
   "source": [
    "from sklearn.preprocessing import MinMaxScaler, StandardScaler\n",
    "scaler = StandardScaler() # MinMaxScaler()\n",
    "cars_df_scaled = pd.DataFrame(scaler.fit_transform(cars_df))\n",
    "cars_df_scaled.columns = cars_df.columns\n",
    "cars_df_scaled"
   ]
  },
  {
   "cell_type": "markdown",
   "id": "agricultural-lancaster",
   "metadata": {},
   "source": [
    "## Feature Reduction\n",
    "\n",
    "We then use PCA to examine the variance in the data set and see who much we may eliminate without reducing the various too much.\n",
    "https://datascience.stackexchange.com/questions/47324/curse-of-dimensionality-how-many-dimensions-is-too-many-dimensions\n"
   ]
  },
  {
   "cell_type": "code",
   "execution_count": 18,
   "id": "fourth-sphere",
   "metadata": {},
   "outputs": [
    {
     "data": {
      "image/png": "[encoded data removed]",
      "text/plain": [
       "<Figure size 432x288 with 1 Axes>"
      ]
     },
     "metadata": {
      "needs_background": "light"
     },
     "output_type": "display_data"
    }
   ],
   "source": [
    "#Fitting the PCA algorithm with our Data\n",
    "from sklearn.decomposition import PCA \n",
    "pca = PCA().fit(cars_df_scaled)\n",
    "#Plotting the Cumulative Summation of the Explained Variance\n",
    "plt.figure()\n",
    "plt.plot(np.cumsum(pca.explained_variance_ratio_))\n",
    "plt.xlabel('Number of Components')\n",
    "plt.ylabel('Variance (%)') #for each component\n",
    "plt.show()"
   ]
  },
  {
   "cell_type": "markdown",
   "id": "utility-trouble",
   "metadata": {},
   "source": [
    "Based on this, it looks like we could cut our features down to 15 with no significant loss of variance.  What columns to get rid of?  The highly (inversly) correlated ones of course!\n",
    "\n",
    "Well, maybe not.  It seems that quite a few of the columns are still necessary based on criteria.\n",
    "\n",
    "```\n",
    "city_mpg and engine_cylinders are highly (inversely) correlated (-0.6007763119730489)\n",
    "city_mpg and highway_mpg are highly (inversely) correlated (0.8868294962591425)\n",
    "engine_cylinders and engine_hp are highly (inversely) correlated (0.7799879704685257)\n",
    "engine_cylinders and highway_mpg are highly (inversely) correlated (-0.6216057332861783)\n",
    "engine_hp and high_performance are highly (inversely) correlated (0.6557040157675598)\n",
    "engine_hp and model are highly (inversely) correlated (0.646005344927799)\n",
    "exotic and make are highly (inversely) correlated (0.7161338704725522)\n",
    "exotic and model are highly (inversely) correlated (0.6550931579727469)\n",
    "make and model are highly (inversely) correlated (0.8691867845850091)\n",
    "```\n",
    "\n",
    "We can likely collapse the city and highway mpg into a single column, mpg, by taking their average.\n",
    "\n",
    "Also, horse power and cylinders are highly correlated, so we could get rid of one of them.  Looking at common criteria on car shopping websites, hp is less frequent, so we'll ditch that one too.\n",
    "\n",
    "Also, some of the market segment columns don't seem to be doing much for us.  `Exotic` is highly correlated, as is `high_performance`.\n",
    "\n",
    "That brings us to 4 eliminated.  If we eliminate some of the other market segment one hot columns, such as `luxury`, `factory_tuner`.  `flex_fuel` and `diesel` are covered by `engine_fuel_type`, so that brings us to 17, which is just where the PCA variance starts to curve."
   ]
  },
  {
   "cell_type": "code",
   "execution_count": 19,
   "id": "anticipated-disease",
   "metadata": {},
   "outputs": [
    {
     "data": {
      "text/html": [
       "<div>\n",
       "<style scoped>\n",
       "    .dataframe tbody tr th:only-of-type {\n",
       "        vertical-align: middle;\n",
       "    }\n",
       "\n",
       "    .dataframe tbody tr th {\n",
       "        vertical-align: top;\n",
       "    }\n",
       "\n",
       "    .dataframe thead th {\n",
       "        text-align: right;\n",
       "    }\n",
       "</style>\n",
       "<table border=\"1\" class=\"dataframe\">\n",
       "  <thead>\n",
       "    <tr style=\"text-align: right;\">\n",
       "      <th></th>\n",
       "      <th>crossover</th>\n",
       "      <th>driven_wheels</th>\n",
       "      <th>engine_cylinders</th>\n",
       "      <th>engine_fuel_type</th>\n",
       "      <th>engine_hp</th>\n",
       "      <th>hatchback</th>\n",
       "      <th>hybrid</th>\n",
       "      <th>make</th>\n",
       "      <th>model</th>\n",
       "      <th>number_of_doors</th>\n",
       "      <th>performance</th>\n",
       "      <th>popularity</th>\n",
       "      <th>transmission_type</th>\n",
       "      <th>vehicle_size</th>\n",
       "      <th>vehicle_style</th>\n",
       "      <th>year</th>\n",
       "      <th>msrp</th>\n",
       "      <th>mpg</th>\n",
       "    </tr>\n",
       "  </thead>\n",
       "  <tbody>\n",
       "    <tr>\n",
       "      <th>0</th>\n",
       "      <td>-0.454936</td>\n",
       "      <td>0.872292</td>\n",
       "      <td>0.200123</td>\n",
       "      <td>2.133668</td>\n",
       "      <td>0.783154</td>\n",
       "      <td>-0.333255</td>\n",
       "      <td>-0.172913</td>\n",
       "      <td>0.356431</td>\n",
       "      <td>-0.005122</td>\n",
       "      <td>-1.622841</td>\n",
       "      <td>1.555214</td>\n",
       "      <td>1.640774</td>\n",
       "      <td>-0.911364</td>\n",
       "      <td>-0.617261</td>\n",
       "      <td>1.455908</td>\n",
       "      <td>0.084281</td>\n",
       "      <td>0.567811</td>\n",
       "      <td>-0.046632</td>\n",
       "    </tr>\n",
       "    <tr>\n",
       "      <th>1</th>\n",
       "      <td>-0.454936</td>\n",
       "      <td>0.915754</td>\n",
       "      <td>0.200123</td>\n",
       "      <td>2.196338</td>\n",
       "      <td>0.462638</td>\n",
       "      <td>-0.333255</td>\n",
       "      <td>-0.172913</td>\n",
       "      <td>0.507996</td>\n",
       "      <td>-0.037274</td>\n",
       "      <td>-1.622841</td>\n",
       "      <td>1.555214</td>\n",
       "      <td>1.640774</td>\n",
       "      <td>-0.929944</td>\n",
       "      <td>-0.745617</td>\n",
       "      <td>2.770998</td>\n",
       "      <td>0.084281</td>\n",
       "      <td>0.453622</td>\n",
       "      <td>0.087734</td>\n",
       "    </tr>\n",
       "    <tr>\n",
       "      <th>2</th>\n",
       "      <td>-0.454936</td>\n",
       "      <td>0.413016</td>\n",
       "      <td>0.200123</td>\n",
       "      <td>2.329492</td>\n",
       "      <td>0.462638</td>\n",
       "      <td>-0.333255</td>\n",
       "      <td>-0.172913</td>\n",
       "      <td>0.442365</td>\n",
       "      <td>-0.044887</td>\n",
       "      <td>-1.622841</td>\n",
       "      <td>1.555214</td>\n",
       "      <td>1.640774</td>\n",
       "      <td>-0.882935</td>\n",
       "      <td>-0.439123</td>\n",
       "      <td>1.803069</td>\n",
       "      <td>0.084281</td>\n",
       "      <td>0.352757</td>\n",
       "      <td>0.164342</td>\n",
       "    </tr>\n",
       "    <tr>\n",
       "      <th>3</th>\n",
       "      <td>-0.454936</td>\n",
       "      <td>0.784929</td>\n",
       "      <td>0.200123</td>\n",
       "      <td>2.085474</td>\n",
       "      <td>-0.178395</td>\n",
       "      <td>-0.333255</td>\n",
       "      <td>-0.172913</td>\n",
       "      <td>0.446666</td>\n",
       "      <td>0.003164</td>\n",
       "      <td>-1.622841</td>\n",
       "      <td>1.555214</td>\n",
       "      <td>1.640774</td>\n",
       "      <td>-0.928995</td>\n",
       "      <td>-0.650314</td>\n",
       "      <td>1.607896</td>\n",
       "      <td>0.084281</td>\n",
       "      <td>0.162855</td>\n",
       "      <td>0.011126</td>\n",
       "    </tr>\n",
       "    <tr>\n",
       "      <th>4</th>\n",
       "      <td>-0.454936</td>\n",
       "      <td>1.059500</td>\n",
       "      <td>0.200123</td>\n",
       "      <td>2.260964</td>\n",
       "      <td>-0.178395</td>\n",
       "      <td>-0.333255</td>\n",
       "      <td>-0.172913</td>\n",
       "      <td>0.391320</td>\n",
       "      <td>-0.023862</td>\n",
       "      <td>-1.622841</td>\n",
       "      <td>-0.642998</td>\n",
       "      <td>1.640774</td>\n",
       "      <td>-0.834965</td>\n",
       "      <td>-0.623051</td>\n",
       "      <td>2.207365</td>\n",
       "      <td>0.084281</td>\n",
       "      <td>0.305634</td>\n",
       "      <td>0.011126</td>\n",
       "    </tr>\n",
       "    <tr>\n",
       "      <th>...</th>\n",
       "      <td>...</td>\n",
       "      <td>...</td>\n",
       "      <td>...</td>\n",
       "      <td>...</td>\n",
       "      <td>...</td>\n",
       "      <td>...</td>\n",
       "      <td>...</td>\n",
       "      <td>...</td>\n",
       "      <td>...</td>\n",
       "      <td>...</td>\n",
       "      <td>...</td>\n",
       "      <td>...</td>\n",
       "      <td>...</td>\n",
       "      <td>...</td>\n",
       "      <td>...</td>\n",
       "      <td>...</td>\n",
       "      <td>...</td>\n",
       "      <td>...</td>\n",
       "    </tr>\n",
       "    <tr>\n",
       "      <th>11810</th>\n",
       "      <td>2.198110</td>\n",
       "      <td>1.186992</td>\n",
       "      <td>0.200123</td>\n",
       "      <td>1.978288</td>\n",
       "      <td>0.462638</td>\n",
       "      <td>3.000706</td>\n",
       "      <td>-0.172913</td>\n",
       "      <td>-0.097939</td>\n",
       "      <td>0.177891</td>\n",
       "      <td>0.642636</td>\n",
       "      <td>-0.642998</td>\n",
       "      <td>-0.937137</td>\n",
       "      <td>-0.095517</td>\n",
       "      <td>0.242962</td>\n",
       "      <td>-0.886330</td>\n",
       "      <td>0.215963</td>\n",
       "      <td>0.567517</td>\n",
       "      <td>-0.478005</td>\n",
       "    </tr>\n",
       "    <tr>\n",
       "      <th>11811</th>\n",
       "      <td>2.198110</td>\n",
       "      <td>0.663779</td>\n",
       "      <td>0.200123</td>\n",
       "      <td>1.903154</td>\n",
       "      <td>0.462638</td>\n",
       "      <td>3.000706</td>\n",
       "      <td>-0.172913</td>\n",
       "      <td>-0.111258</td>\n",
       "      <td>0.200031</td>\n",
       "      <td>0.642636</td>\n",
       "      <td>-0.642998</td>\n",
       "      <td>-0.937137</td>\n",
       "      <td>-0.054984</td>\n",
       "      <td>-0.379416</td>\n",
       "      <td>-0.929406</td>\n",
       "      <td>0.215963</td>\n",
       "      <td>0.753360</td>\n",
       "      <td>-0.478005</td>\n",
       "    </tr>\n",
       "    <tr>\n",
       "      <th>11812</th>\n",
       "      <td>2.198110</td>\n",
       "      <td>1.209599</td>\n",
       "      <td>0.200123</td>\n",
       "      <td>2.077478</td>\n",
       "      <td>0.462638</td>\n",
       "      <td>3.000706</td>\n",
       "      <td>-0.172913</td>\n",
       "      <td>-0.126102</td>\n",
       "      <td>0.226877</td>\n",
       "      <td>0.642636</td>\n",
       "      <td>-0.642998</td>\n",
       "      <td>-0.937137</td>\n",
       "      <td>0.157102</td>\n",
       "      <td>-0.091215</td>\n",
       "      <td>-0.929311</td>\n",
       "      <td>0.215963</td>\n",
       "      <td>0.651508</td>\n",
       "      <td>-0.478005</td>\n",
       "    </tr>\n",
       "    <tr>\n",
       "      <th>11813</th>\n",
       "      <td>2.198110</td>\n",
       "      <td>1.509200</td>\n",
       "      <td>0.200123</td>\n",
       "      <td>0.012759</td>\n",
       "      <td>0.462638</td>\n",
       "      <td>3.000706</td>\n",
       "      <td>-0.172913</td>\n",
       "      <td>-0.075792</td>\n",
       "      <td>0.181417</td>\n",
       "      <td>0.642636</td>\n",
       "      <td>-0.642998</td>\n",
       "      <td>-0.937137</td>\n",
       "      <td>0.002418</td>\n",
       "      <td>-0.495835</td>\n",
       "      <td>-0.948520</td>\n",
       "      <td>0.347646</td>\n",
       "      <td>0.656839</td>\n",
       "      <td>-0.478005</td>\n",
       "    </tr>\n",
       "    <tr>\n",
       "      <th>11814</th>\n",
       "      <td>-0.454936</td>\n",
       "      <td>-1.101190</td>\n",
       "      <td>0.200123</td>\n",
       "      <td>-0.577836</td>\n",
       "      <td>-0.260813</td>\n",
       "      <td>-0.333255</td>\n",
       "      <td>-0.172913</td>\n",
       "      <td>0.033656</td>\n",
       "      <td>0.001647</td>\n",
       "      <td>0.642636</td>\n",
       "      <td>-0.642998</td>\n",
       "      <td>-1.036448</td>\n",
       "      <td>0.028767</td>\n",
       "      <td>-1.045520</td>\n",
       "      <td>-0.095887</td>\n",
       "      <td>-0.574130</td>\n",
       "      <td>0.148808</td>\n",
       "      <td>-0.199848</td>\n",
       "    </tr>\n",
       "  </tbody>\n",
       "</table>\n",
       "<p>11815 rows × 18 columns</p>\n",
       "</div>"
      ],
      "text/plain": [
       "       crossover  driven_wheels  engine_cylinders  engine_fuel_type  \\\n",
       "0      -0.454936       0.872292          0.200123          2.133668   \n",
       "1      -0.454936       0.915754          0.200123          2.196338   \n",
       "2      -0.454936       0.413016          0.200123          2.329492   \n",
       "3      -0.454936       0.784929          0.200123          2.085474   \n",
       "4      -0.454936       1.059500          0.200123          2.260964   \n",
       "...          ...            ...               ...               ...   \n",
       "11810   2.198110       1.186992          0.200123          1.978288   \n",
       "11811   2.198110       0.663779          0.200123          1.903154   \n",
       "11812   2.198110       1.209599          0.200123          2.077478   \n",
       "11813   2.198110       1.509200          0.200123          0.012759   \n",
       "11814  -0.454936      -1.101190          0.200123         -0.577836   \n",
       "\n",
       "       engine_hp  hatchback    hybrid      make     model  number_of_doors  \\\n",
       "0       0.783154  -0.333255 -0.172913  0.356431 -0.005122        -1.622841   \n",
       "1       0.462638  -0.333255 -0.172913  0.507996 -0.037274        -1.622841   \n",
       "2       0.462638  -0.333255 -0.172913  0.442365 -0.044887        -1.622841   \n",
       "3      -0.178395  -0.333255 -0.172913  0.446666  0.003164        -1.622841   \n",
       "4      -0.178395  -0.333255 -0.172913  0.391320 -0.023862        -1.622841   \n",
       "...          ...        ...       ...       ...       ...              ...   \n",
       "11810   0.462638   3.000706 -0.172913 -0.097939  0.177891         0.642636   \n",
       "11811   0.462638   3.000706 -0.172913 -0.111258  0.200031         0.642636   \n",
       "11812   0.462638   3.000706 -0.172913 -0.126102  0.226877         0.642636   \n",
       "11813   0.462638   3.000706 -0.172913 -0.075792  0.181417         0.642636   \n",
       "11814  -0.260813  -0.333255 -0.172913  0.033656  0.001647         0.642636   \n",
       "\n",
       "       performance  popularity  transmission_type  vehicle_size  \\\n",
       "0         1.555214    1.640774          -0.911364     -0.617261   \n",
       "1         1.555214    1.640774          -0.929944     -0.745617   \n",
       "2         1.555214    1.640774          -0.882935     -0.439123   \n",
       "3         1.555214    1.640774          -0.928995     -0.650314   \n",
       "4        -0.642998    1.640774          -0.834965     -0.623051   \n",
       "...            ...         ...                ...           ...   \n",
       "11810    -0.642998   -0.937137          -0.095517      0.242962   \n",
       "11811    -0.642998   -0.937137          -0.054984     -0.379416   \n",
       "11812    -0.642998   -0.937137           0.157102     -0.091215   \n",
       "11813    -0.642998   -0.937137           0.002418     -0.495835   \n",
       "11814    -0.642998   -1.036448           0.028767     -1.045520   \n",
       "\n",
       "       vehicle_style      year      msrp       mpg  \n",
       "0           1.455908  0.084281  0.567811 -0.046632  \n",
       "1           2.770998  0.084281  0.453622  0.087734  \n",
       "2           1.803069  0.084281  0.352757  0.164342  \n",
       "3           1.607896  0.084281  0.162855  0.011126  \n",
       "4           2.207365  0.084281  0.305634  0.011126  \n",
       "...              ...       ...       ...       ...  \n",
       "11810      -0.886330  0.215963  0.567517 -0.478005  \n",
       "11811      -0.929406  0.215963  0.753360 -0.478005  \n",
       "11812      -0.929311  0.215963  0.651508 -0.478005  \n",
       "11813      -0.948520  0.347646  0.656839 -0.478005  \n",
       "11814      -0.095887 -0.574130  0.148808 -0.199848  \n",
       "\n",
       "[11815 rows x 18 columns]"
      ]
     },
     "execution_count": 19,
     "metadata": {},
     "output_type": "execute_result"
    }
   ],
   "source": [
    "cars_df_scaled['mpg'] = (cars_df_scaled['highway_mpg'] + cars_df_scaled['city_mpg']) / 2.0\n",
    "cars_df_scaled.drop(['exotic', 'city_mpg', 'highway_mpg', 'high_performance', 'luxury', 'factory_tuner', 'flex_fuel', 'diesel'], axis = 1)"
   ]
  },
  {
   "cell_type": "markdown",
   "id": "clinical-leisure",
   "metadata": {},
   "source": [
    "We use a `StandardScaler` to scale the columns.  This provides a mean of 0 and std of 1 for each feature.  \n",
    "\n",
    "In a previous iteration of preparing this report, I used a `MinMaxScaler` to scale the features to between 0 and 1, and this gave better results in the baseline.  After more research, I learned that standard scaling is better for many machine learning algorithms, such as the SVMs and neural networks that we use in this assignment.  Likewise, using a `StandardScaler` \"would do no harm.\"[^standard-vs-minmax]  I decided to forgo the `MinMaxScaler` in favor of the `StandardScaler` for those reasons.\n",
    "\n",
    "[^standard-vs-minmax]: http://rajeshmahajan.com/standard-scaler-v-min-max-scaler-machine-learning/"
   ]
  },
  {
   "cell_type": "markdown",
   "id": "appropriate-communist",
   "metadata": {},
   "source": [
    "## Baseline Scores"
   ]
  },
  {
   "cell_type": "markdown",
   "id": "demographic-slovakia",
   "metadata": {},
   "source": [
    "Now let's split the data into training and test suites, 80% test, 20% training.  We then cross validate the training data with each algorithm to get a good baseline that will help us avoid overfitting or underfitting.[^why-cross-validate] [^why-cross-validate2]\n",
    "\n",
    "[^why-cross-validate]: https://towardsdatascience.com/overfitting-vs-underfitting-a-conceptual-explanation-d94ee20ca7f9 \"What can we do? We paid strict attention to the data and we overfit. We ignored the data and we underfit. There has to be a way to find the optimal balance! Fortunately, there is a well-established solution in data science called validation. In our example, we used only a training set and a testing set. This meant we could not know ahead of time how our model would do in the real world. Ideally, we would have a “pre-test” set to evaluate our model and make improvements before the real test. This “pre-test” is known as a validation set and is a critical part of model development.\"\n",
    "\n",
    "[^why-cross-validate2]: http://users.monash.edu/~webb/Files/WebbConilione06.pdf \"paper showing how cross validation gives a better estimate of the bias and variance.\""
   ]
  },
  {
   "cell_type": "code",
   "execution_count": 20,
   "id": "stupid-peripheral",
   "metadata": {},
   "outputs": [],
   "source": [
    "from sklearn.neural_network import MLPRegressor\n",
    "from sklearn.neighbors import KNeighborsRegressor\n",
    "from sklearn.tree import DecisionTreeRegressor\n",
    "from sklearn.ensemble import GradientBoostingRegressor\n",
    "from sklearn.svm import SVR\n",
    "\n",
    "random_seed = 5295468\n",
    "baseline = [MLPRegressor(random_state=random_seed, solver='adam'),\n",
    "            DecisionTreeRegressor(random_state=random_seed),\n",
    "            KNeighborsRegressor(n_neighbors=5, algorithm=\"ball_tree\", n_jobs=-1),\n",
    "            SVR(C=1),\n",
    "            GradientBoostingRegressor(random_state=random_seed)]\n",
    "\n",
    "names = [clf.__class__.__name__ for clf in baseline]"
   ]
  },
  {
   "cell_type": "code",
   "execution_count": 21,
   "id": "gorgeous-connection",
   "metadata": {},
   "outputs": [],
   "source": [
    "n = len(cars_df)\n",
    "n_test = int(0.2 * n)\n",
    "n_train = n - (n_test)\n",
    "idx = np.arange(n)\n",
    "np.random.shuffle(idx)\n",
    "cars_shuffled = cars_df_scaled.iloc[idx]\n",
    "cars_scaled_train = cars_shuffled.iloc[:n_train].copy()\n",
    "cars_scaled_test = cars_shuffled.iloc[n_train:].copy()"
   ]
  },
  {
   "cell_type": "code",
   "execution_count": 22,
   "id": "substantial-dispute",
   "metadata": {},
   "outputs": [],
   "source": [
    "prices = cars_df.iloc[idx].msrp.values\n",
    "\n",
    "prices_train = np.expm1(cars_df.iloc[:n_train].msrp.values)\n",
    "prices_test = np.expm1(cars_df.iloc[n_train:].msrp.values)\n",
    "\n",
    "prices_scaled = cars_shuffled.msrp.values\n",
    "prices_scaled_train = cars_scaled_train.msrp.values\n",
    "prices_scaled_test = cars_scaled_test.msrp.values\n",
    "\n",
    "del cars_shuffled['msrp']\n",
    "del cars_scaled_train['msrp']\n",
    "del cars_scaled_test['msrp']"
   ]
  },
  {
   "cell_type": "code",
   "execution_count": 23,
   "id": "lesser-implement",
   "metadata": {},
   "outputs": [],
   "source": [
    "# # This is the same way we split data in the census data set, but isn't quite working here yet.\n",
    "# from sklearn.model_selection import StratifiedShuffleSplit\n",
    "# # This controls the AUC curve by quite a bit.\n",
    "# #sss = StratifiedShuffleSplit(test_size = 0.0001,random_state = random_seed, n_splits = 1)\n",
    "# #sss = StratifiedShuffleSplit(test_size = 0.001, random_state = random_seed, n_splits = 1)\n",
    "# sss = StratifiedShuffleSplit(test_size = 0.02, random_state = random_seed, n_splits = 1)\n",
    "\n",
    "# for train_index, test_index in sss.split(cars_shuffled, prices_scaled):\n",
    "#     cars_scaled_train, cars_scaled_test = features.values[train_index], features.values[test_index]\n",
    "#     prices_scaled_train, prices_scaled_test = labels.values[train_index], labels.values[test_index]\n",
    "    \n",
    "# # Show the results of splitting\n",
    "# print(\"Training set1 size:\", X_train.shape)\n",
    "# print(\"Testing set1 size:\", X_test.shape)"
   ]
  },
  {
   "cell_type": "code",
   "execution_count": 24,
   "id": "electoral-orlando",
   "metadata": {},
   "outputs": [
    {
     "name": "stdout",
     "output_type": "stream",
     "text": [
      "[31750. 37045. 39540. ... 50620. 50920. 28995.]\n",
      "[34500. 40445. 38680. ... 18380. 42220. 21465.]\n"
     ]
    }
   ],
   "source": [
    "prices_reconstituted_test = np.expm1(prices_scaled_test * scaler.scale_[24] + scaler.mean_[24])\n",
    "print(prices_test)\n",
    "print(prices_reconstituted_test)"
   ]
  },
  {
   "cell_type": "code",
   "execution_count": 25,
   "id": "above-character",
   "metadata": {},
   "outputs": [
    {
     "name": "stderr",
     "output_type": "stream",
     "text": [
      "  0%|                                                                                                                                                                                     | 0/5 [00:00<?, ?it/s]c:\\python3.9\\lib\\site-packages\\sklearn\\neural_network\\_multilayer_perceptron.py:614: ConvergenceWarning: Stochastic Optimizer: Maximum iterations (200) reached and the optimization hasn't converged yet.\n",
      "  warnings.warn(\n",
      "100%|█████████████████████████████████████████████████████████████████████████████████████████████████████████████████████████████████████████████████████████████████████████████| 5/5 [00:47<00:00,  9.54s/it]\n"
     ]
    },
    {
     "data": {
      "image/png": "[encoded data removed]",
      "text/plain": [
       "<Figure size 432x288 with 1 Axes>"
      ]
     },
     "metadata": {
      "needs_background": "light"
     },
     "output_type": "display_data"
    }
   ],
   "source": [
    "from sklearn.metrics import mean_squared_error\n",
    "from sklearn.model_selection import cross_val_score\n",
    "from tqdm import tqdm\n",
    "import pickle\n",
    "\n",
    "random_seed = 5295468\n",
    "baseline = [MLPRegressor(random_state=random_seed, solver='adam'),\n",
    "            DecisionTreeRegressor(random_state=random_seed),\n",
    "            KNeighborsRegressor(n_neighbors=5, algorithm=\"ball_tree\", n_jobs=-1),\n",
    "            SVR(C = 1),\n",
    "            GradientBoostingRegressor(random_state=random_seed)]\n",
    "\n",
    "baseline_rmse_df = {'RMSE': [],\n",
    "                    'Data': [],\n",
    "                    'Algorithm': []}\n",
    "\n",
    "for clf in tqdm(baseline):\n",
    "    clf_name = clf.__class__.__name__.removesuffix(\"Regressor\")\n",
    "\n",
    "    scores = cross_val_score(clf, cars_scaled_train, prices_scaled_train, cv=5, scoring='neg_root_mean_squared_error')\n",
    "    clf.fit(cars_scaled_train, prices_scaled_train)\n",
    "    prices_test_pred = clf.predict(cars_scaled_test)\n",
    "    \n",
    "    error_test = mean_squared_error(prices_scaled_test, prices_test_pred, squared=False)\n",
    "    baseline_rmse_df['Algorithm'].append(clf_name)\n",
    "    baseline_rmse_df['Algorithm'].append(clf_name)\n",
    "    baseline_rmse_df['RMSE'].append(-scores.mean())\n",
    "    baseline_rmse_df['RMSE'].append(error_test)    \n",
    "    baseline_rmse_df['Data'].append('train')\n",
    "    baseline_rmse_df['Data'].append('test')\n",
    "    \n",
    "sns.barplot(x=\"Algorithm\", y=\"RMSE\", hue=\"Data\", data=pd.DataFrame(baseline_rmse_df))\n",
    "plt.title(\"Cars Baseline RMSE by Algorithm\")\n",
    "plt.savefig('Cars Baseline RMSE by Algorithm.png')\n"
   ]
  },
  {
   "cell_type": "markdown",
   "id": "bigger-academy",
   "metadata": {},
   "source": [
    "### Observations So Far\n",
    "\n",
    "Using default parameters with the following data transformations:\n",
    "* normalize the MSRP label distribution via log transformation\n",
    "* leave one out encoding for the categorical parameters except Market Segment\n",
    "* break out the Market Segment into one hot encoded features\n",
    "* standard scaling all the features to a mean of 0 and std of 1\n",
    "* determined the most correlated (and inversely correlated) features in the dataset\n",
    "* PCA to determine how many features we could eliminate without reducing the dataset's variance too much\n",
    "* Eliminate 8 of the features that were either highly correlated or were highly imbalanced to decrease the number of features from 25 to 17 without reducing the variance (from the previous PCA run)\n",
    "* Dividing the data into training and test sets of 80/20.\n",
    "* Run 5-fold cross validation of each algorithm for the training data and test data to compute baseline errors\n",
    "\n"
   ]
  },
  {
   "cell_type": "markdown",
   "id": "modified-thanks",
   "metadata": {},
   "source": [
    "### Cross Validation Observations\n",
    "\n"
   ]
  },
  {
   "cell_type": "markdown",
   "id": "confidential-program",
   "metadata": {},
   "source": [
    "## Baseline Learning Curves (Attempt 1)\n",
    "\n",
    "Before trying to reach optimal learning for each algorithm, I established baselines to work against.\n",
    "\n",
    "To do this, I used default regressors from Scikit Learn, with default parameters, except where such defaults either resulted in errors or no default was provided.  In such cases, I chose \"reasonable defaults\".\n",
    "\n",
    "Likewise, I used a random seed that is out of the ordinary, a text to phone number conversion of my name, \"Jay Kint\".  \n",
    "\n",
    "To provide the contrast, we fed each algorithm percentages of the training data and then compared their RMSE for their predictions vs the training and test data respectively.  The following graphs show the results."
   ]
  },
  {
   "cell_type": "code",
   "execution_count": 26,
   "id": "absolute-membrane",
   "metadata": {},
   "outputs": [],
   "source": [
    "learning_curve_samples = []\n",
    "\n",
    "for i in [1,2,5]:\n",
    "    learning_curve_samples.append(int(i * cars_scaled_train.shape[0] / 100.))\n",
    "    \n",
    "for i in range(1,11):\n",
    "    learning_curve_samples.append(int(i * 10 * cars_scaled_train.shape[0] / 100.))"
   ]
  },
  {
   "cell_type": "code",
   "execution_count": 27,
   "id": "funky-parish",
   "metadata": {},
   "outputs": [
    {
     "name": "stderr",
     "output_type": "stream",
     "text": [
      "  0%|                                                                                                                                                                                     | 0/5 [00:00<?, ?it/s]c:\\python3.9\\lib\\site-packages\\sklearn\\neural_network\\_multilayer_perceptron.py:614: ConvergenceWarning: Stochastic Optimizer: Maximum iterations (200) reached and the optimization hasn't converged yet.\n",
      "  warnings.warn(\n",
      "c:\\python3.9\\lib\\site-packages\\sklearn\\neural_network\\_multilayer_perceptron.py:614: ConvergenceWarning: Stochastic Optimizer: Maximum iterations (200) reached and the optimization hasn't converged yet.\n",
      "  warnings.warn(\n",
      "c:\\python3.9\\lib\\site-packages\\sklearn\\neural_network\\_multilayer_perceptron.py:614: ConvergenceWarning: Stochastic Optimizer: Maximum iterations (200) reached and the optimization hasn't converged yet.\n",
      "  warnings.warn(\n",
      "100%|█████████████████████████████████████████████████████████████████████████████████████████████████████████████████████████████████████████████████████████████████████████████| 5/5 [01:17<00:00, 15.44s/it]\n"
     ]
    }
   ],
   "source": [
    "from sklearn.metrics import mean_squared_error\n",
    "from tqdm import tqdm\n",
    "import pickle\n",
    "\n",
    "random_seed = 5295468\n",
    "baseline = [MLPRegressor(random_state=random_seed, solver='adam'),\n",
    "            DecisionTreeRegressor(random_state=random_seed),\n",
    "            KNeighborsRegressor(5),\n",
    "            SVR(C = 1),\n",
    "            GradientBoostingRegressor(random_state=random_seed)]\n",
    "\n",
    "learningcurve_results = {}\n",
    "for clf in tqdm(baseline):\n",
    "    clf_name = clf.__class__.__name__\n",
    "    learningcurve_results[clf_name] = {'error_test':[],\n",
    "                                       'error_train':[],\n",
    "                                       'prices_train':[],\n",
    "                                       'prices_test_pred': [], \n",
    "                                       'prices_train_pred': []}\n",
    "    \n",
    "    for i, sample in enumerate(learning_curve_samples):\n",
    "        clf.fit(cars_scaled_train[:sample], prices_scaled_train[:sample])\n",
    "        \n",
    "        prices_test_pred = clf.predict(cars_scaled_test)\n",
    "        prices_train_pred = clf.predict(cars_scaled_train[:sample])\n",
    "\n",
    "        error_test = mean_squared_error(prices_scaled_test, prices_test_pred, squared=False)\n",
    "        error_train = mean_squared_error(prices_scaled_train[:sample], prices_train_pred, squared=False)\n",
    "        \n",
    "        learningcurve_results[clf_name]['error_test'].append(error_test)\n",
    "        learningcurve_results[clf_name]['error_train'].append(error_train)\n",
    "        learningcurve_results[clf_name]['prices_train'].append(prices_train[:sample])\n",
    "        learningcurve_results[clf_name]['prices_test_pred'].append(prices_test_pred)\n",
    "        learningcurve_results[clf_name]['prices_train_pred'].append(prices_train_pred) \n",
    "        \n",
    "        with open('car_prices_' + clf_name + '_' + str(sample) + '.pkl', 'wb') as f:\n",
    "            pickle.dump(clf, f)"
   ]
  },
  {
   "cell_type": "code",
   "execution_count": 28,
   "id": "greatest-invasion",
   "metadata": {},
   "outputs": [],
   "source": [
    "# \n",
    "# import os\n",
    "\n",
    "# for clf in baseline:\n",
    "#     clf_name = clf.__class__.__name__\n",
    "#     learningcurve_results[clf_name] = {'test':[],'train':[]}\n",
    "\n",
    "#     for i, sample in enumerate(learning_curve_samples):\n",
    "#         clf_name_file = (\"car_prices_\" + clf_name + '_{}.pkl').format(sample)\n",
    "#         print(clf_name_file)\n",
    "#         if(clf_name_file.find(\"car_prices_DecisionTree\") == -1):\n",
    "#             continue\n",
    "#         if os.path.isfile(clf_name_file):\n",
    "#             with open(clf_name_file, 'rb') as f:\n",
    "#                 clf = pickle.load(f)\n",
    "#         else:\n",
    "#             raise(clf_name_file)\n",
    "\n",
    "#         print(clf.get_depth())\n",
    "#         print(clf.get_n_leaves())"
   ]
  },
  {
   "cell_type": "code",
   "execution_count": 29,
   "id": "directed-vanilla",
   "metadata": {},
   "outputs": [
    {
     "data": {
      "text/plain": [
       "[94, 189, 472, 945, 1890, 2835, 3780, 4726, 5671, 6616, 7561, 8506, 9452]"
      ]
     },
     "execution_count": 29,
     "metadata": {},
     "output_type": "execute_result"
    }
   ],
   "source": [
    "learning_curve_samples"
   ]
  },
  {
   "cell_type": "code",
   "execution_count": 30,
   "id": "robust-tomato",
   "metadata": {},
   "outputs": [
    {
     "data": {
      "image/png": "[encoded data removed]",
      "text/plain": [
       "<Figure size 576x432 with 1 Axes>"
      ]
     },
     "metadata": {
      "needs_background": "light"
     },
     "output_type": "display_data"
    },
    {
     "data": {
      "image/png": "[encoded data removed]",
      "text/plain": [
       "<Figure size 576x432 with 1 Axes>"
      ]
     },
     "metadata": {
      "needs_background": "light"
     },
     "output_type": "display_data"
    },
    {
     "data": {
      "image/png": "[encoded data removed]",
      "text/plain": [
       "<Figure size 576x432 with 1 Axes>"
      ]
     },
     "metadata": {
      "needs_background": "light"
     },
     "output_type": "display_data"
    },
    {
     "data": {
      "image/png": "[encoded data removed]",
      "text/plain": [
       "<Figure size 576x432 with 1 Axes>"
      ]
     },
     "metadata": {
      "needs_background": "light"
     },
     "output_type": "display_data"
    },
    {
     "data": {
      "image/png": "[encoded data removed]",
      "text/plain": [
       "<Figure size 576x432 with 1 Axes>"
      ]
     },
     "metadata": {
      "needs_background": "light"
     },
     "output_type": "display_data"
    }
   ],
   "source": [
    "for clf in learningcurve_results.keys():\n",
    "    x_data = [1,2,5,10,20,30,40,50,60,70,80,90,100]\n",
    "    plt.figure(figsize = (8,6))\n",
    "    plt.title('Learning Curve for {} on Car Prices'.format(clf),fontsize = 16)\n",
    "    plt.plot(x_data,learningcurve_results[clf]['error_test'],'rx-', label = clf + ' on testing set' )\n",
    "    plt.plot(x_data,learningcurve_results[clf]['error_train'],'bx-',label = clf + ' on training set')\n",
    "    \n",
    "    ticks = [10,30,50,70,90]\n",
    "    plt.xticks(ticks,[str(x)+\"%\" for x in ticks])\n",
    "    plt.xlabel(\"Training data used\")\n",
    "    plt.ylabel(\"Error (RMSE)\")\n",
    "    plt.ylim([-0.1, 0.5])\n",
    "    plt.legend(loc=\"best\",fontsize = 12);\n",
    "    plt.savefig(\"Learning Curve for {} on Car Prices Data\".format(clf))\n",
    "    "
   ]
  },
  {
   "cell_type": "code",
   "execution_count": 31,
   "id": "sharp-evolution",
   "metadata": {},
   "outputs": [],
   "source": [
    "dataset_name = 'Cars'"
   ]
  },
  {
   "cell_type": "code",
   "execution_count": 42,
   "id": "gentle-arrangement",
   "metadata": {},
   "outputs": [
    {
     "name": "stderr",
     "output_type": "stream",
     "text": [
      "100%|███████████████████████████████████████████████████████████████████████████████████████████████████████████████████████████████████████████████████████████████████████████| 38/38 [00:14<00:00,  2.63it/s]\n"
     ]
    },
    {
     "name": "stdout",
     "output_type": "stream",
     "text": [
      "Lowest MSE at 12 max_depth: 0.01492238155083523\n"
     ]
    },
    {
     "data": {
      "image/png": "[encoded data removed]",
      "text/plain": [
       "<Figure size 576x432 with 1 Axes>"
      ]
     },
     "metadata": {
      "needs_background": "light"
     },
     "output_type": "display_data"
    }
   ],
   "source": [
    "# Decision Tree\n",
    "hyper_params = range(1, DecisionTreeRegressor(random_state = random_seed).fit(cars_scaled_train,prices_scaled_train).tree_.max_depth)\n",
    "results = {'test':[], 'train':[]}\n",
    "algorithm_name = 'DecisionTreeRegressor'\n",
    "\n",
    "param_name = 'max_depth'\n",
    "\n",
    "for i in tqdm(hyper_params):\n",
    "    clf = DecisionTreeRegressor(random_state=random_seed, max_depth=i)\n",
    "    \n",
    "    clf.fit(cars_scaled_train, prices_scaled_train)\n",
    "    train_error = -(cross_val_score(clf, cars_scaled_train, prices_scaled_train, cv=5, scoring='neg_root_mean_squared_error').mean())\n",
    "    # train_error = mean_squared_error(clf.predict(cars_scaled_train), prices_scaled_train)\n",
    "    test_error = mean_squared_error(clf.predict(cars_scaled_test), prices_scaled_test)\n",
    "\n",
    "    results['train'].append(train_error)\n",
    "    results['test'].append(test_error)\n",
    "    \n",
    "opt = pd.Series(results['test']).idxmin() \n",
    "print(\"Lowest MSE at {} {}: {}\".format( hyper_params[opt], param_name, results['test'][opt]))\n",
    "\n",
    "plt.figure(figsize = (8,6))\n",
    "plt.title('{} Model Complexity Curve for {}'.format(dataset_name, algorithm_name), fontsize = 16)\n",
    "\n",
    "error_diff = pd.Series(np.array(results['test']) - np.array(results['train']))\n",
    "plt.plot(hyper_params, results['train'],'b-',label = 'training set')\n",
    "plt.plot(hyper_params, results['test'],'rx-',label = 'testing set')\n",
    "plt.plot(hyper_params,np.array(results['test']) - np.array(results['train']),'g-', label = 'Error difference between two sets')\n",
    "\n",
    "opt = pd.Series(results['test']).idxmin()\n",
    "plt.scatter(hyper_params[opt], results['test'][opt], s = 400, c = 'yellow')\n",
    "\n",
    "plt.xlabel(param_name)\n",
    "plt.ylabel(\"Error (MSE)\")\n",
    "plt.legend(loc=\"best\", fontsize = 12)\n",
    "\n",
    "png_name = '{} Model Complexity Curve for {} ({}) .png'.format(dataset_name, algorithm_name, param_name)\n",
    "plt.savefig(png_name)\n"
   ]
  },
  {
   "cell_type": "code",
   "execution_count": 45,
   "id": "dutch-convention",
   "metadata": {},
   "outputs": [
    {
     "name": "stderr",
     "output_type": "stream",
     "text": [
      "  0%|                                                                                                                                                                                     | 0/7 [00:00<?, ?it/s]c:\\python3.9\\lib\\site-packages\\sklearn\\neural_network\\_multilayer_perceptron.py:614: ConvergenceWarning: Stochastic Optimizer: Maximum iterations (10) reached and the optimization hasn't converged yet.\n",
      "  warnings.warn(\n",
      " 14%|████████████████████████▋                                                                                                                                                    | 1/7 [00:00<00:01,  3.20it/s]c:\\python3.9\\lib\\site-packages\\sklearn\\neural_network\\_multilayer_perceptron.py:614: ConvergenceWarning: Stochastic Optimizer: Maximum iterations (20) reached and the optimization hasn't converged yet.\n",
      "  warnings.warn(\n",
      " 29%|█████████████████████████████████████████████████▍                                                                                                                           | 2/7 [00:00<00:02,  2.05it/s]c:\\python3.9\\lib\\site-packages\\sklearn\\neural_network\\_multilayer_perceptron.py:614: ConvergenceWarning: Stochastic Optimizer: Maximum iterations (50) reached and the optimization hasn't converged yet.\n",
      "  warnings.warn(\n",
      " 43%|██████████████████████████████████████████████████████████████████████████▏                                                                                                  | 3/7 [00:02<00:03,  1.06it/s]c:\\python3.9\\lib\\site-packages\\sklearn\\neural_network\\_multilayer_perceptron.py:614: ConvergenceWarning: Stochastic Optimizer: Maximum iterations (80) reached and the optimization hasn't converged yet.\n",
      "  warnings.warn(\n",
      " 57%|██████████████████████████████████████████████████████████████████████████████████████████████████▊                                                                          | 4/7 [00:04<00:04,  1.53s/it]c:\\python3.9\\lib\\site-packages\\sklearn\\neural_network\\_multilayer_perceptron.py:614: ConvergenceWarning: Stochastic Optimizer: Maximum iterations (100) reached and the optimization hasn't converged yet.\n",
      "  warnings.warn(\n",
      "100%|█████████████████████████████████████████████████████████████████████████████████████████████████████████████████████████████████████████████████████████████████████████████| 7/7 [00:15<00:00,  2.24s/it]\n"
     ]
    },
    {
     "name": "stdout",
     "output_type": "stream",
     "text": [
      "Lowest MSE at 150 max_iter: 0.029552813278006733\n"
     ]
    },
    {
     "data": {
      "image/png": "[encoded data removed]",
      "text/plain": [
       "<Figure size 576x432 with 1 Axes>"
      ]
     },
     "metadata": {
      "needs_background": "light"
     },
     "output_type": "display_data"
    }
   ],
   "source": [
    "# Neural Network \n",
    "hyper_params = [10,20,50,80,100,150,200]\n",
    "results = {'test':[], 'train':[]}\n",
    "algorithm_name = 'MLPRegressor'\n",
    "\n",
    "param_name = 'max_iter'\n",
    "\n",
    "for i in tqdm(hyper_params):\n",
    "    clf = MLPRegressor(random_state=random_seed, solver='adam', max_iter=i)\n",
    "    clf.fit(cars_scaled_train, prices_scaled_train)\n",
    "\n",
    "    train_error = mean_squared_error(clf.predict(cars_scaled_train), prices_scaled_train)\n",
    "    # train_error = -(cross_val_score(clf, cars_scaled_train, prices_scaled_train, cv=5, scoring='neg_root_mean_squared_error').mean())\n",
    "    test_error = mean_squared_error(clf.predict(cars_scaled_test), prices_scaled_test)\n",
    "\n",
    "    results['train'].append(train_error)\n",
    "    results['test'].append(test_error)\n",
    "    \n",
    "opt = pd.Series(results['test']).idxmin() \n",
    "print(\"Lowest MSE at {} {}: {}\".format( hyper_params[opt], param_name, results['test'][opt]))\n",
    "\n",
    "plt.figure(figsize = (8,6))\n",
    "plt.title('Cars Model Complexity Curve for {}'.format(algorithm_name), fontsize = 16)\n",
    "\n",
    "plt.plot(hyper_params,results['train'],'b-',label = 'training set')\n",
    "plt.plot(hyper_params,results['test'],'rx-',label = 'testing set')\n",
    "plt.plot(hyper_params,np.array(results['test']) - np.array(results['train']),'g-', label = 'Error difference between two sets')\n",
    "\n",
    "opt = pd.Series(results['test']).idxmin()\n",
    "plt.scatter(hyper_params[opt], results['test'][opt], s = 400, c = 'yellow')\n",
    "\n",
    "plt.xlabel(param_name)\n",
    "plt.ylabel(\"Error (MSE)\")\n",
    "plt.legend(loc=\"best\", fontsize = 12)\n",
    "\n",
    "png_name = 'Cars Model Complexity Curve for {} ({}).png'.format(algorithm_name, param_name)\n",
    "plt.savefig(png_name)\n"
   ]
  },
  {
   "cell_type": "code",
   "execution_count": 46,
   "id": "answering-apple",
   "metadata": {},
   "outputs": [
    {
     "name": "stderr",
     "output_type": "stream",
     "text": [
      "100%|█████████████████████████████████████████████████████████████████████████████████████████████████████████████████████████████████████████████████████████████████████████████| 8/8 [00:19<00:00,  2.38s/it]\n"
     ]
    },
    {
     "name": "stdout",
     "output_type": "stream",
     "text": [
      "Lowest MSE at 2 n_neighbors: 0.0388209626624122\n"
     ]
    },
    {
     "data": {
      "image/png": "[encoded data removed]",
      "text/plain": [
       "<Figure size 576x432 with 1 Axes>"
      ]
     },
     "metadata": {
      "needs_background": "light"
     },
     "output_type": "display_data"
    }
   ],
   "source": [
    "# kNN\n",
    "hyper_params = [1, 2, 3, 5, 20, 50, 100, 200]\n",
    "results = {'test':[], 'train':[]}\n",
    "algorithm_name = 'KNeighborsRegressor'\n",
    "\n",
    "param_name = 'n_neighbors'\n",
    "\n",
    "for i in tqdm(hyper_params):\n",
    "    np.random.seed(random_seed)\n",
    "    clf = KNeighborsRegressor(n_neighbors=i)\n",
    "    clf.fit(cars_scaled_train, prices_scaled_train)\n",
    "\n",
    "    train_error = mean_squared_error(clf.predict(cars_scaled_train), prices_scaled_train)\n",
    "    test_error = mean_squared_error(clf.predict(cars_scaled_test), prices_scaled_test)\n",
    "\n",
    "    results['train'].append(train_error)\n",
    "    results['test'].append(test_error)\n",
    "    \n",
    "opt = pd.Series(results['test']).idxmin() \n",
    "print(\"Lowest MSE at {} {}: {}\".format(hyper_params[opt], param_name, results['test'][opt]))\n",
    "\n",
    "plt.figure(figsize = (8,6))\n",
    "plt.title('Cars Model Complexity Curve for {}'.format(algorithm_name), fontsize = 16)\n",
    "\n",
    "plt.plot(hyper_params, results['train'],'b-',label = 'training set')\n",
    "plt.plot(hyper_params, results['test'],'rx-',label = 'testing set')\n",
    "plt.plot(hyper_params, np.array(results['test']) - np.array(results['train']),'g-', label = 'Error difference between two sets')\n",
    "\n",
    "opt = pd.Series(results['test']).idxmin()\n",
    "plt.scatter(hyper_params[opt], results['test'][opt], s = 400, c = 'yellow')\n",
    "\n",
    "plt.xlabel(param_name)\n",
    "plt.ylabel(\"Error (MSE)\")\n",
    "plt.legend(loc=\"best\", fontsize = 12)\n",
    "\n",
    "png_name = 'Cars Model Complexity Curve for {} ({}) .png'.format(algorithm_name, param_name)\n",
    "plt.savefig(png_name)\n"
   ]
  },
  {
   "cell_type": "code",
   "execution_count": 53,
   "id": "mathematical-frontier",
   "metadata": {},
   "outputs": [
    {
     "name": "stderr",
     "output_type": "stream",
     "text": [
      "100%|█████████████████████████████████████████████████████████████████████████████████████████████████████████████████████████████████████████████████████████████████████████████| 8/8 [00:26<00:00,  3.36s/it]\n"
     ]
    },
    {
     "name": "stdout",
     "output_type": "stream",
     "text": [
      "Lowest MSE at 7 max_depth: 0.007758926655071294\n"
     ]
    },
    {
     "data": {
      "image/png": "[encoded data removed]",
      "text/plain": [
       "<Figure size 576x432 with 1 Axes>"
      ]
     },
     "metadata": {
      "needs_background": "light"
     },
     "output_type": "display_data"
    }
   ],
   "source": [
    "# Gradient Boosted Machines\n",
    "hyper_params = range(2, 10)\n",
    "results = {'test':[], 'train':[]}\n",
    "algorithm_name = 'GradientBoostingRegressor'\n",
    "\n",
    "param_name = 'max_depth'\n",
    "\n",
    "for i in tqdm(hyper_params):\n",
    "    clf = GradientBoostingRegressor(random_state=random_seed, max_depth=i)\n",
    "    clf.fit(cars_scaled_train, prices_scaled_train)\n",
    "\n",
    "    train_error = mean_squared_error(clf.predict(cars_scaled_train), prices_scaled_train)\n",
    "    test_error = mean_squared_error(clf.predict(cars_scaled_test), prices_scaled_test)\n",
    "\n",
    "    results['train'].append(train_error)\n",
    "    results['test'].append(test_error)\n",
    "    \n",
    "opt = pd.Series(results['test']).idxmin() \n",
    "print(\"Lowest MSE at {} {}: {}\".format( hyper_params[opt], param_name, results['test'][opt]))\n",
    "\n",
    "plt.figure(figsize = (8,6))\n",
    "plt.title('Cars Model Complexity Curve for {}'.format(algorithm_name), fontsize = 16)\n",
    "\n",
    "plt.plot(hyper_params, results['train'],'b-',label = 'training set')\n",
    "plt.plot(hyper_params, results['test'],'rx-',label = 'testing set')\n",
    "plt.plot(hyper_params, np.array(results['test']) - np.array(results['train']),'g-', label = 'Error difference between two sets')\n",
    "\n",
    "opt = pd.Series(results['test']).idxmin()\n",
    "plt.scatter(hyper_params[opt], results['test'][opt], s = 400, c = 'yellow')\n",
    "\n",
    "plt.xlabel(param_name)\n",
    "plt.ylabel(\"Error (MSE)\")\n",
    "plt.legend(loc=\"best\", fontsize = 12)\n",
    "\n",
    "png_name = 'Cars Model Complexity Curve for {} ({}) .png'.format(algorithm_name, param_name)\n",
    "plt.savefig(png_name)\n"
   ]
  },
  {
   "cell_type": "code",
   "execution_count": 52,
   "id": "surprising-delta",
   "metadata": {},
   "outputs": [
    {
     "name": "stderr",
     "output_type": "stream",
     "text": [
      "100%|█████████████████████████████████████████████████████████████████████████████████████████████████████████████████████████████████████████████████████████████████████████████| 4/4 [00:35<00:00,  8.79s/it]"
     ]
    },
    {
     "name": "stdout",
     "output_type": "stream",
     "text": [
      "Lowest MSE at rbf kernel: 0.04127614200190076\n"
     ]
    },
    {
     "name": "stderr",
     "output_type": "stream",
     "text": [
      "\n"
     ]
    },
    {
     "data": {
      "image/png": "[encoded data removed]",
      "text/plain": [
       "<Figure size 576x432 with 1 Axes>"
      ]
     },
     "metadata": {
      "needs_background": "light"
     },
     "output_type": "display_data"
    }
   ],
   "source": [
    "# SVM by kernel\n",
    "hyper_params = ['linear', 'poly', 'rbf', 'sigmoid']\n",
    "results = {'test':[], 'train':[]}\n",
    "algorithm_name = 'SVR'\n",
    "\n",
    "param_name = 'kernel'\n",
    "\n",
    "for i in tqdm(hyper_params):\n",
    "    np.random.seed(random_seed)\n",
    "    clf = SVR(kernel=i)\n",
    "    clf.fit(cars_scaled_train, prices_scaled_train)\n",
    "\n",
    "    train_error = mean_squared_error(clf.predict(cars_scaled_train), prices_scaled_train)\n",
    "    test_error = mean_squared_error(clf.predict(cars_scaled_test), prices_scaled_test)\n",
    "\n",
    "    results['train'].append(train_error)\n",
    "    results['test'].append(test_error)\n",
    "    \n",
    "opt = pd.Series(results['test']).idxmin() \n",
    "print(\"Lowest MSE at {} {}: {}\".format( hyper_params[opt], param_name, results['test'][opt]))\n",
    "\n",
    "plt.figure(figsize = (8,6))\n",
    "plt.title('Cars Model Complexity Curve for {} ({})'.format(algorithm_name, param_name), fontsize = 16)\n",
    "\n",
    "plt.plot(hyper_params, results['train'],'b-',label = 'training set')\n",
    "plt.plot(hyper_params, results['test'],'rx-',label = 'testing set')\n",
    "plt.plot(hyper_params, np.array(results['test']) - np.array(results['train']),'g-', label = 'Error difference between two sets')\n",
    "\n",
    "opt = pd.Series(results['test']).idxmin()\n",
    "plt.scatter(hyper_params[opt], results['test'][opt], s = 400, c = 'yellow')\n",
    "\n",
    "plt.xlabel(param_name)\n",
    "plt.ylabel(\"Error (MSE)\")\n",
    "plt.ylim([-1, 2])\n",
    "plt.legend(loc=\"best\", fontsize = 12)\n",
    "\n",
    "png_name = 'Cars Model Complexity Curve for {} ({}) .png'.format(algorithm_name, param_name)\n",
    "plt.savefig(png_name)\n"
   ]
  },
  {
   "cell_type": "code",
   "execution_count": 49,
   "id": "later-finding",
   "metadata": {},
   "outputs": [
    {
     "name": "stderr",
     "output_type": "stream",
     "text": [
      "100%|█████████████████████████████████████████████████████████████████████████████████████████████████████████████████████████████████████████████████████████████████████████████| 9/9 [03:20<00:00, 22.27s/it]\n"
     ]
    },
    {
     "name": "stdout",
     "output_type": "stream",
     "text": [
      "Lowest MSE at 200.0 C: 0.032310732520101915\n"
     ]
    },
    {
     "data": {
      "image/png": "[encoded data removed]",
      "text/plain": [
       "<Figure size 576x432 with 1 Axes>"
      ]
     },
     "metadata": {
      "needs_background": "light"
     },
     "output_type": "display_data"
    }
   ],
   "source": [
    "# SVM by C\n",
    "hyper_params = [0.1, 0.5, 1.0, 5.0, 10.0, 50.0, 100.0, 200.0, 1000.0] # , 10000.0]\n",
    "results = {'test':[], 'train':[]}\n",
    "algorithm_name = 'SVR'\n",
    "\n",
    "param_name = 'C'\n",
    "\n",
    "for i in tqdm(hyper_params):\n",
    "    np.random.seed(random_seed)\n",
    "    clf = SVR(C=i)\n",
    "    clf.fit(cars_scaled_train, prices_scaled_train)\n",
    "\n",
    "    train_error = mean_squared_error(clf.predict(cars_scaled_train), prices_scaled_train)\n",
    "    test_error = mean_squared_error(clf.predict(cars_scaled_test), prices_scaled_test)\n",
    "\n",
    "    results['train'].append(train_error)\n",
    "    results['test'].append(test_error)\n",
    "    \n",
    "opt = pd.Series(results['test']).idxmin() \n",
    "print(\"Lowest MSE at {} {}: {}\".format( hyper_params[opt], param_name, results['test'][opt]))\n",
    "\n",
    "plt.figure(figsize = (8,6))\n",
    "plt.title('Cars Model Complexity Curve for {} ({})'.format(algorithm_name, param_name), fontsize = 16)\n",
    "\n",
    "plt.plot(hyper_params, results['train'],'b-',label = 'training set')\n",
    "plt.plot(hyper_params, results['test'],'rx-',label = 'testing set')\n",
    "plt.plot(hyper_params, np.array(results['test']) - np.array(results['train']),'g-', label = 'Error difference between two sets')\n",
    "\n",
    "opt = pd.Series(results['test']).idxmin()\n",
    "plt.scatter(hyper_params[opt], results['test'][opt], s = 400, c = 'yellow')\n",
    "\n",
    "plt.xlabel(param_name)\n",
    "plt.ylabel(\"Error (MSE)\")\n",
    "plt.legend(loc=\"best\", fontsize = 12)\n",
    "\n",
    "png_name = 'Cars Model Complexity Curve for {} ({}) .png'.format(algorithm_name, param_name)\n",
    "plt.savefig(png_name)"
   ]
  },
  {
   "cell_type": "code",
   "execution_count": 55,
   "id": "statistical-florida",
   "metadata": {},
   "outputs": [],
   "source": [
    "improved_clf = [MLPRegressor(random_state=random_seed, max_iter=100), \n",
    "                     DecisionTreeRegressor(random_state=random_seed, max_depth=12), \n",
    "                     KNeighborsRegressor(n_neighbors=2, n_jobs=-1, algorithm=\"ball_tree\"),\n",
    "                     SVR(C=10), \n",
    "                     GradientBoostingRegressor(random_state=random_seed, max_depth=6)]"
   ]
  },
  {
   "cell_type": "code",
   "execution_count": 56,
   "id": "comprehensive-performer",
   "metadata": {},
   "outputs": [
    {
     "name": "stderr",
     "output_type": "stream",
     "text": [
      "  0%|                                                                                                                                                                                     | 0/5 [00:00<?, ?it/s]c:\\python3.9\\lib\\site-packages\\sklearn\\neural_network\\_multilayer_perceptron.py:614: ConvergenceWarning: Stochastic Optimizer: Maximum iterations (100) reached and the optimization hasn't converged yet.\n",
      "  warnings.warn(\n",
      "c:\\python3.9\\lib\\site-packages\\sklearn\\neural_network\\_multilayer_perceptron.py:614: ConvergenceWarning: Stochastic Optimizer: Maximum iterations (100) reached and the optimization hasn't converged yet.\n",
      "  warnings.warn(\n",
      "c:\\python3.9\\lib\\site-packages\\sklearn\\neural_network\\_multilayer_perceptron.py:614: ConvergenceWarning: Stochastic Optimizer: Maximum iterations (100) reached and the optimization hasn't converged yet.\n",
      "  warnings.warn(\n",
      "c:\\python3.9\\lib\\site-packages\\sklearn\\neural_network\\_multilayer_perceptron.py:614: ConvergenceWarning: Stochastic Optimizer: Maximum iterations (100) reached and the optimization hasn't converged yet.\n",
      "  warnings.warn(\n",
      "c:\\python3.9\\lib\\site-packages\\sklearn\\neural_network\\_multilayer_perceptron.py:614: ConvergenceWarning: Stochastic Optimizer: Maximum iterations (100) reached and the optimization hasn't converged yet.\n",
      "  warnings.warn(\n",
      "100%|█████████████████████████████████████████████████████████████████████████████████████████████████████████████████████████████████████████████████████████████████████████████| 5/5 [00:59<00:00, 11.86s/it]\n"
     ]
    },
    {
     "data": {
      "image/png": "[encoded data removed]",
      "text/plain": [
       "<Figure size 432x288 with 1 Axes>"
      ]
     },
     "metadata": {
      "needs_background": "light"
     },
     "output_type": "display_data"
    }
   ],
   "source": [
    "improved_rmse_df = {'RMSE': [],\n",
    "                    'Data': [],\n",
    "                    'Algorithm': []}\n",
    "\n",
    "for clf in tqdm(improved_clf):\n",
    "    clf_name = clf.__class__.__name__.removesuffix(\"Regressor\")\n",
    "\n",
    "    np.random.seed(random_seed)\n",
    "    scores = cross_val_score(clf, cars_scaled_train, prices_scaled_train, cv=5, scoring='neg_root_mean_squared_error')\n",
    "    clf.fit(cars_scaled_train, prices_scaled_train)\n",
    "    prices_test_pred = clf.predict(cars_scaled_test)\n",
    "    \n",
    "    error_test = mean_squared_error(prices_scaled_test, prices_test_pred, squared=False)\n",
    "    improved_rmse_df['Algorithm'].append(clf_name)\n",
    "    improved_rmse_df['Algorithm'].append(clf_name)\n",
    "    improved_rmse_df['RMSE'].append(-scores.mean())\n",
    "    improved_rmse_df['RMSE'].append(error_test)    \n",
    "    improved_rmse_df['Data'].append('train')\n",
    "    improved_rmse_df['Data'].append('test')\n",
    "    \n",
    "sns.barplot(x=\"Algorithm\", y=\"RMSE\", hue=\"Data\", data=pd.DataFrame(improved_rmse_df))\n",
    "plt.title(\"Cars Improved RMSE by Algorithm\")\n",
    "plt.savefig('Cars Improved RMSE by Algorithm.png')"
   ]
  },
  {
   "cell_type": "code",
   "execution_count": 57,
   "id": "another-symbol",
   "metadata": {},
   "outputs": [
    {
     "name": "stdout",
     "output_type": "stream",
     "text": [
      "{'RMSE': [0.18753852534138693, 0.17190931701919687, 0.14244846046488688, 0.13649375672490183, 0.2259787409349266, 0.2084637484133284, 0.2212166787835665, 0.2031653070824366, 0.1224236989905837, 0.11091799848399148], 'Data': ['train', 'test', 'train', 'test', 'train', 'test', 'train', 'test', 'train', 'test'], 'Algorithm': ['MLP', 'MLP', 'DecisionTree', 'DecisionTree', 'KNeighbors', 'KNeighbors', 'SVR', 'SVR', 'GradientBoosting', 'GradientBoosting']}\n",
      "{'RMSE': [0.19465119517825466, 0.17345144471337443, 0.1314131709047216, 0.12215720015961086, 0.21171219728383214, 0.19703035974796423, 0.20076977641238467, 0.18694683359041284, 0.09835126041272792, 0.09024478232498448], 'Data': ['train', 'test', 'train', 'test', 'train', 'test', 'train', 'test', 'train', 'test'], 'Algorithm': ['MLP', 'MLP', 'DecisionTree', 'DecisionTree', 'KNeighbors', 'KNeighbors', 'SVR', 'SVR', 'GradientBoosting', 'GradientBoosting']}\n"
     ]
    }
   ],
   "source": [
    "print(baseline_rmse_df)\n",
    "print(improved_rmse_df)"
   ]
  },
  {
   "cell_type": "markdown",
   "id": "modern-sigma",
   "metadata": {},
   "source": [
    "## Decision Tree\n",
    "\n",
    "Decision trees are among the simplest and easily intepreted algorithms for developing models.\n",
    "\n",
    "Below we use XGBoost to train a gradient-boosted decision tree: https://machinelearningmastery.com/develop-first-xgboost-model-python-scikit-learn/"
   ]
  },
  {
   "cell_type": "code",
   "execution_count": null,
   "id": "musical-basic",
   "metadata": {},
   "outputs": [],
   "source": [
    "from sklearn.tree import DecisionTreeRegressor\n",
    "np.random.seed(5295468)\n",
    "model_skl = DecisionTreeRegressor()\n",
    "model_skl.fit(cars_train, prices_train)"
   ]
  },
  {
   "cell_type": "code",
   "execution_count": null,
   "id": "municipal-rhythm",
   "metadata": {},
   "outputs": [],
   "source": [
    "prices_pred = model_skl.predict(cars_test)\n",
    "np.sqrt(np.mean((prices_test - prices_pred)**2))"
   ]
  },
  {
   "cell_type": "code",
   "execution_count": null,
   "id": "turned-horizon",
   "metadata": {},
   "outputs": [],
   "source": [
    "cars_reconstituted = pd.DataFrame(scaler.inverse_transform(cars_df_scaled))\n",
    "cars_reconstituted.columns = cars_df.columns\n",
    "cars_reconstituted['msrp'] = np.expm1(cars_reconstituted['msrp'])\n",
    "cars_reconstituted\n",
    "# cars_recontituded = pd.DataFrame(scaler.inverse_transform(prices_pred))\n",
    "# cars_reconstituted.columns = cars_df.columns\n",
    "# cars_reconstituted['msrp'] = np.expm1(cars_reconstituted['msrp'])\n",
    "# cars_reconstituted"
   ]
  },
  {
   "cell_type": "code",
   "execution_count": null,
   "id": "emotional-george",
   "metadata": {},
   "outputs": [],
   "source": [
    "from sklearn.tree import DecisionTreeClassifier\n",
    "from sklearn.pipeline import Pipeline\n",
    "from sklearn.model_selection import GridSearchCV\n",
    "from sklearn.preprocessing import StandardScaler\n",
    "\n",
    "pipe_steps = [('decsT', DecisionTreeRegressor())] # [('scaler', StandardScaler()), ('decsT', DecisionTreeClassifier())]\n",
    "check_params = {'decsT__criterion': ['mse', 'friedman_mse', 'mae', 'poisson'],\n",
    "                'decsT__max_depth': np.arange(3, 25),\n",
    "                'decsT__max_features': ['auto', 'sqrt', 'log2']}\n",
    "pipeline = Pipeline(pipe_steps)\n",
    "print(pipeline)"
   ]
  },
  {
   "cell_type": "code",
   "execution_count": null,
   "id": "forward-mirror",
   "metadata": {},
   "outputs": [],
   "source": [
    "from tqdm.notebook import tqdm\n",
    "np.random.seed(5295468)\n",
    "print('Start fitting the data')\n",
    "\n",
    "for cv in tqdm(range(3,11)):\n",
    "    grid = GridSearchCV(pipeline, param_grid=check_params, cv=cv, \n",
    "                        n_jobs=-1, scoring='explained_variance')\n",
    "    grid.fit(cars_train, prices_train)\n",
    "    print('Score for %d fold CV = %f' % (cv, grid.score(cars_test, prices_test)))\n",
    "    print('best parameters = {}'.format(grid.best_params_))\n",
    "    # print('individual scores = {}'.format(grid.cv_results_))\n",
    "print('Done')"
   ]
  },
  {
   "cell_type": "code",
   "execution_count": null,
   "id": "unexpected-graphics",
   "metadata": {},
   "outputs": [],
   "source": [
    "from sklearn.tree import DecisionTreeClassifier\n",
    "from sklearn.pipeline import Pipeline\n",
    "from sklearn.model_selection import GridSearchCV\n",
    "from sklearn.preprocessing import StandardScaler\n",
    "\n",
    "xgb_model = xgb.XGBRegressor(n_jobs=1, n_estimator=1, random_state=5295468)\n",
    "pipe_steps=[('decsT', xgb_model)]\n",
    "check_params = {'decsT__criterion': ['mse', 'friedman_mse', 'mae', 'poisson'],\n",
    "                'decsT__max_depth': np.arange(3, 25),\n",
    "                'decsT__max_features': ['auto', 'sqrt', 'log2']}\n",
    "pipeline = Pipeline(pipe_steps)\n",
    "print(pipeline)"
   ]
  },
  {
   "cell_type": "code",
   "execution_count": null,
   "id": "floating-transsexual",
   "metadata": {},
   "outputs": [],
   "source": [
    "from tqdm.notebook import tqdm\n",
    "np.random.seed(5295468)\n",
    "print('Start fitting the data')\n",
    "\n",
    "for cv in tqdm(range(3,11)):\n",
    "    grid = GridSearchCV(pipeline, param_grid=check_params, cv=cv, \n",
    "                        n_jobs=-1, scoring='explained_variance')\n",
    "    grid.fit(cars_train, prices_train)\n",
    "    print('Score for %d fold CV = %f' % (cv, grid.score(cars_test, prices_test)))\n",
    "    print('best parameters = {}'.format(grid.best_params_))\n",
    "    # print('individual scores = {}'.format(grid.cv_results_))\n",
    "print('Done')"
   ]
  },
  {
   "cell_type": "code",
   "execution_count": null,
   "id": "canadian-paradise",
   "metadata": {},
   "outputs": [],
   "source": []
  },
  {
   "cell_type": "code",
   "execution_count": null,
   "id": "focal-particle",
   "metadata": {},
   "outputs": [],
   "source": [
    "# from sklearn.model_selection import StratifiedShuffleSplit\n",
    "# cars_features_df = cars_df.loc[:,cars_df.columns != 'msrp']\n",
    "# cars_labels_df = cars_df['msrp']\n",
    "# sss = StratifiedShuffleSplit(cars_labels_df.values, test_size = 0.02, random_state = 5295468)\n",
    "\n",
    "# (cars_train_idx, cars_test_idx) = sss.split(cars_features_df, cars_labels_df)\n",
    "\n",
    "# # for train_index, test_index in sss:\n",
    "# #     cars_train, cars_test = cars_features_df.values[train_index], cars_features_df.values[test_index]\n",
    "# #     prices_train, prices_test = cars_labels_df.values[train_index], cars_labels_df.values[test_index]\n",
    "    \n",
    "# # Show the results of splitting\n",
    "# print(\"Cars dataset training size: {}\".format(cars_train.shape))\n",
    "# print(\"Cars dataset test size: {}\".format(cars_test.shape))"
   ]
  }
 ],
 "metadata": {
  "kernelspec": {
   "display_name": "Python 3",
   "language": "python",
   "name": "python3"
  },
  "language_info": {
   "codemirror_mode": {
    "name": "ipython",
    "version": 3
   },
   "file_extension": ".py",
   "mimetype": "text/x-python",
   "name": "python",
   "nbconvert_exporter": "python",
   "pygments_lexer": "ipython3",
   "version": "3.9.1"
  }
 },
 "nbformat": 4,
 "nbformat_minor": 5
}
